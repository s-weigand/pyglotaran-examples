{
 "cells": [
  {
   "cell_type": "code",
   "execution_count": null,
   "id": "8c8cd156-092b-4137-93d6-a008d0dddd29",
   "metadata": {},
   "outputs": [],
   "source": [
    "%matplotlib inline"
   ]
  },
  {
   "cell_type": "markdown",
   "id": "f4cec6e4-a3da-4a14-8528-fa4826a6a56d",
   "metadata": {},
   "source": [
    "# Create result from case study"
   ]
  },
  {
   "cell_type": "code",
   "execution_count": null,
   "id": "8ffa4ff7-f127-4101-a66c-aed780b3c4b6",
   "metadata": {
    "jupyter": {
     "outputs_hidden": true
    },
    "tags": []
   },
   "outputs": [],
   "source": [
    "from pyglotaran_examples.ex_two_datasets.ex_two_datasets_new_api import result"
   ]
  },
  {
   "cell_type": "markdown",
   "id": "3714cc15-4ce5-49b3-9d21-dfec3df62363",
   "metadata": {},
   "source": [
    "# Data + fit"
   ]
  },
  {
   "cell_type": "code",
   "execution_count": null,
   "id": "9e1d212b-ade9-42af-bb28-fcf3b869c5e1",
   "metadata": {},
   "outputs": [],
   "source": [
    "import matplotlib.pyplot as plt"
   ]
  },
  {
   "cell_type": "code",
   "execution_count": null,
   "id": "55b00182-a4b3-4246-8d8b-ca82b31683af",
   "metadata": {},
   "outputs": [],
   "source": [
    "import numpy as np\n",
    "from matplotlib.pyplot import Axes\n",
    "\n",
    "from glotaran.project.result import Result"
   ]
  },
  {
   "cell_type": "code",
   "execution_count": null,
   "id": "677ca2f5-6adb-4ed5-92f9-8208015ed6ca",
   "metadata": {},
   "outputs": [],
   "source": [
    "dir(result.data[\"dataset1\"])"
   ]
  },
  {
   "cell_type": "code",
   "execution_count": null,
   "id": "e9ac6d94-76a4-4b01-9a34-e48d70bf159c",
   "metadata": {},
   "outputs": [],
   "source": [
    "def plot_data_and_fits(\n",
    "    result: Result, wavelength: float, axis: Axes, linlog=False, linthresh=1, use_label=True\n",
    "):\n",
    "    for dataset_name in result.data.keys():\n",
    "        result_data = result.data[dataset_name].sel(spectral=[wavelength], method=\"nearest\")\n",
    "        # result_data.data.plot(\n",
    "        #    x=\"time\",\n",
    "        #    ax=axis,\n",
    "        #    marker=\"o\",\n",
    "        #    linewidth=0,\n",
    "        #    label=f\"{dataset_name}_data\" if use_label else \"\",\n",
    "        # )\n",
    "        result_data.data.plot(x=\"time\", ax=axis, label=f\"{dataset_name}_data\" if use_label else \"\")\n",
    "        result_data.fitted_data.plot(\n",
    "            x=\"time\", ax=axis, label=f\"{dataset_name}_fit\" if use_label else \"\"\n",
    "        )\n",
    "    if linlog:\n",
    "        axis.set_xscale(\"symlog\", linthresh=linthresh)\n",
    "    axis.set_ylabel(\"Intensity\")"
   ]
  },
  {
   "cell_type": "code",
   "execution_count": null,
   "id": "2c1d40d2-4be2-482c-b0ba-c6e8d08196f1",
   "metadata": {
    "tags": []
   },
   "outputs": [],
   "source": [
    "fig, axes = plt.subplots(2, 1, figsize=(30, 15))\n",
    "fig.patch.set_facecolor(\"white\")\n",
    "plot_data_and_fits(result=result, wavelength=400, axis=axes[0], linlog=True)\n",
    "plot_data_and_fits(result=result, wavelength=501, axis=axes[1], linlog=True)\n",
    "plt.tight_layout()"
   ]
  },
  {
   "cell_type": "code",
   "execution_count": null,
   "id": "b9a2505d-f155-4159-9c7b-3cf521a2f550",
   "metadata": {},
   "outputs": [],
   "source": [
    "result.data[\"dataset1\"].coords[\"spectral\"]"
   ]
  },
  {
   "cell_type": "code",
   "execution_count": null,
   "id": "3cfd75a1-081f-42b8-99f5-bf2b355b6126",
   "metadata": {},
   "outputs": [],
   "source": [
    "result.data[\"dataset2\"].coords[\"spectral\"].values.min()"
   ]
  },
  {
   "cell_type": "code",
   "execution_count": null,
   "id": "6689f739-af9f-41f1-9c2a-c06e8c803992",
   "metadata": {},
   "outputs": [],
   "source": [
    "def get_overlap(result: Result, coord_name: str = \"spectral\"):\n",
    "    minima = []\n",
    "    maxima = []\n",
    "    for dataset in result.data.values():\n",
    "        coord = dataset.coords[coord_name]\n",
    "        minima.append(coord.values.min())\n",
    "        maxima.append(coord.values.max())\n",
    "    return min(minima), max(maxima)\n",
    "\n",
    "\n",
    "get_overlap(result)"
   ]
  },
  {
   "cell_type": "code",
   "execution_count": null,
   "id": "8af8606d-9ef1-4782-9bb5-303a7d89a9ff",
   "metadata": {},
   "outputs": [],
   "source": [
    "axes.flatten()"
   ]
  },
  {
   "cell_type": "code",
   "execution_count": null,
   "id": "1c17b2b2-55e2-46c3-bff7-6c4df25236b0",
   "metadata": {},
   "outputs": [],
   "source": [
    "def plot_fit_overview(\n",
    "    result: Result, axes_shape=(4, 4), linlog=False, linthresh=1, figsize=(30, 15)\n",
    "):\n",
    "    fig, axes = plt.subplots(*axes_shape, figsize=figsize)\n",
    "    fig.patch.set_facecolor(\"white\")\n",
    "    wavelengths = np.linspace(*get_overlap(result), num=len(axes.flatten()))\n",
    "    use_label = True\n",
    "    for wavelength, axis in zip(wavelengths, axes.flatten()):\n",
    "        plot_data_and_fits(\n",
    "            result=result,\n",
    "            wavelength=wavelength,\n",
    "            axis=axis,\n",
    "            linlog=linlog,\n",
    "            linthresh=linthresh,\n",
    "            use_label=use_label,\n",
    "        )\n",
    "        use_label = False\n",
    "    fig.legend()\n",
    "    fig.suptitle(\"Fit overview\", fontsize=28)\n",
    "    fig.tight_layout()\n",
    "    return fig, axes\n",
    "\n",
    "\n",
    "fig, axes = plot_fit_overview(result, axes_shape=(4, 4), linlog=True, linthresh=1)"
   ]
  },
  {
   "cell_type": "code",
   "execution_count": null,
   "id": "071aaadd-2b04-49b5-9f30-90ab2b49a40a",
   "metadata": {},
   "outputs": [],
   "source": [
    "help(result.data[\"dataset1\"])"
   ]
  }
 ],
 "metadata": {
  "kernelspec": {
   "display_name": "Python 3",
   "language": "python",
   "name": "python3"
  },
  "language_info": {
   "codemirror_mode": {
    "name": "ipython",
    "version": 3
   },
   "file_extension": ".py",
   "mimetype": "text/x-python",
   "name": "python",
   "nbconvert_exporter": "python",
   "pygments_lexer": "ipython3",
   "version": "3.8.6"
  }
 },
 "nbformat": 4,
 "nbformat_minor": 5
}
