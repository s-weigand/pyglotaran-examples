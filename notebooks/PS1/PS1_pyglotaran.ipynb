{
 "cells": [
  {
   "cell_type": "markdown",
   "id": "greater-marketplace",
   "metadata": {},
   "source": [
    "# Notes K-matrix\n",
    "\n",
    "- $K_{ij} \\iff$ energy flow from state $j$ to state $i$\n",
    "\n",
    "## parallel (DAS)\n",
    "Energy leaves system directly\n",
    "\n",
    "Full matrix $\\iff$ Reduced maxtrix: \n",
    "\n",
    "- $K_{ij} = 0 ~ \\forall i \\neq j$\n",
    "\n",
    "## sequntial (EAS)\n",
    "Energy flows from one compartment $i$ to the next $i+1$ until it leaves the system ($K_{nn}$)\n",
    "\n",
    "Assume $\\mathbf{K}$ is $n \\times n$ and sequence is in order\n",
    "\n",
    "Full matrix:\n",
    "\n",
    "- $K_{i+1i} = -K_{ii} ~ \\forall i < n \\land K_{nn} \\neq 0$\n",
    "\n",
    "Reduced matrix:\n",
    "\n",
    "- $K^{Reduced}_{i+1i} = K^{Full}_{i+1i} \\land K_{ii} = 0 ~ \\forall i < n \\land K_{nn} \\neq 0$\n",
    "\n",
    "## General\n",
    "Full matrix:\n",
    "\n",
    "- $K_{ii} \\iff -$ sum flows out of the compartment $i$ (to other compartments or out of the system)\n",
    "- $K_{ij} ~ \\forall i \\neq j ~ \\iff$ flow from compartment $j$ to compartment $i$\n",
    "\n",
    "Reduced matrix:\n",
    "\n",
    "- $\\left(\\sum _{k\\neq i}^n K_{ki}\\right)- K^{Full}_{ii} \\iff$ flow of the compartment $i$ out of the system\n",
    "- $K^{Reduced}_{ij} = K^{Full}_{ij} ~ \\forall i \\neq j ~\\iff$ flow from compartment $j$ to compartment $i$"
   ]
  },
  {
   "cell_type": "markdown",
   "id": "criminal-domain",
   "metadata": {},
   "source": [
    "# cyano-PS1 case study\n",
    "\n",
    "As in the lecture note we first try a global analysis\n",
    "\n",
    "## Global analysis\n",
    "\n",
    "Assumpotion the process can ne described by a simple sequential model.\n",
    "\n",
    "### K-matrix sequential\n",
    "\n",
    "The full K-matrix for a 4 compartment sequential scheme has the form of $\\mathbf{K}^{Full}$\n",
    "\n",
    "$$\n",
    "\\mathbf{K}^{Full} = \\begin{bmatrix} \n",
    "    -k_{21} &         &        &           \\\\ \n",
    "    k_{21}  & -k_{32} &        &           \\\\\n",
    "            & k_{32}  & -k_{43} &          \\\\\n",
    "            &         & k_{43} & k_{4 Out} \\\\\n",
    "    \\end{bmatrix}\n",
    "$$\n",
    "\n",
    "Since both glotaran and pyglotaran use a reduced form of the K-matrix, it need to be transformed\n",
    "\n",
    "$$\n",
    "\\mathbf{K}^{Reduced} = \\begin{bmatrix} \n",
    "           &         &        &           \\\\ \n",
    "    k_{21} &         &        &           \\\\\n",
    "           &  k_{32} &        &           \\\\\n",
    "           &         & k_{43} & k_{4 Out} \\\\\n",
    "    \\end{bmatrix}\n",
    "$$\n"
   ]
  },
  {
   "cell_type": "markdown",
   "id": "transsexual-chemical",
   "metadata": {},
   "source": [
    "### Notebook helper function for pretty output"
   ]
  },
  {
   "cell_type": "code",
   "execution_count": null,
   "id": "structured-indie",
   "metadata": {},
   "outputs": [],
   "source": [
    "from IPython.display import Markdown\n",
    "from IPython.display import display\n",
    "\n",
    "\n",
    "def print_md(markdown_printable):\n",
    "    \"\"\"Pretty render Markdown.\"\"\"\n",
    "    display(Markdown(str(markdown_printable)))\n",
    "\n",
    "\n",
    "def print_yaml_file(file_path):\n",
    "    \"\"\"Pretty render yaml file.\"\"\"\n",
    "    with open(file_path) as f:\n",
    "        print_md(f\"```yaml\\n{f.read()}\\n```\")"
   ]
  },
  {
   "cell_type": "markdown",
   "id": "amazing-sauce",
   "metadata": {},
   "source": [
    "### Plotting functions ([`pyglotaran_extras`](https://github.com/s-weigand/pyglotaran-extras/commit/20da3593105fb839f86e668dc12dc9ca87c3b9ce) + `matplotlib`)"
   ]
  },
  {
   "cell_type": "code",
   "execution_count": null,
   "id": "threaded-compatibility",
   "metadata": {
    "tags": []
   },
   "outputs": [],
   "source": [
    "import matplotlib.pyplot as plt\n",
    "from pyglotaran_extras.plotting.plot_overview import plot_overview\n",
    "from pyglotaran_extras.plotting.style import PlotStyle\n",
    "\n",
    "plot_style = PlotStyle()\n",
    "plt.rc(\"axes\", prop_cycle=plot_style.cycler)\n",
    "plt.rcParams[\"figure.figsize\"] = (21, 14)"
   ]
  },
  {
   "cell_type": "markdown",
   "id": "norwegian-shock",
   "metadata": {},
   "source": [
    "### Analysis functions"
   ]
  },
  {
   "cell_type": "code",
   "execution_count": null,
   "id": "employed-celtic",
   "metadata": {},
   "outputs": [],
   "source": [
    "from glotaran.analysis.optimize import optimize\n",
    "from glotaran.io import load_dataset\n",
    "from glotaran.io import load_model\n",
    "from glotaran.io import load_parameters\n",
    "from glotaran.project.scheme import Scheme"
   ]
  },
  {
   "cell_type": "markdown",
   "id": "understood-morrison",
   "metadata": {},
   "source": [
    "### Read data"
   ]
  },
  {
   "cell_type": "code",
   "execution_count": null,
   "id": "liable-xerox",
   "metadata": {},
   "outputs": [],
   "source": [
    "dataset = load_dataset(\"streakdata.ascii\")\n",
    "dataset"
   ]
  },
  {
   "cell_type": "markdown",
   "id": "divided-portfolio",
   "metadata": {},
   "source": [
    "### Load model and parameters"
   ]
  },
  {
   "cell_type": "code",
   "execution_count": null,
   "id": "important-redhead",
   "metadata": {},
   "outputs": [],
   "source": [
    "global_model = load_model(\"models/global-model.yml\")\n",
    "global_parameters = load_parameters(\"models/global-parameters.yml\")\n",
    "print_md(global_model.validate(parameters=global_parameters))"
   ]
  },
  {
   "cell_type": "code",
   "execution_count": null,
   "id": "designed-segment",
   "metadata": {},
   "outputs": [],
   "source": [
    "print_md(global_model)"
   ]
  },
  {
   "cell_type": "markdown",
   "id": "portable-watch",
   "metadata": {},
   "source": [
    "### Create scheme and optimize it"
   ]
  },
  {
   "cell_type": "code",
   "execution_count": null,
   "id": "informal-torture",
   "metadata": {},
   "outputs": [],
   "source": [
    "global_scheme = Scheme(\n",
    "    global_model,\n",
    "    global_parameters,\n",
    "    {\"dataset1\": dataset},\n",
    "    non_negative_least_squares=True,\n",
    ")\n",
    "global_result = optimize(global_scheme)"
   ]
  },
  {
   "cell_type": "code",
   "execution_count": null,
   "id": "british-campbell",
   "metadata": {},
   "outputs": [],
   "source": [
    "global_result.data[\"dataset1\"]"
   ]
  },
  {
   "cell_type": "markdown",
   "id": "lesser-retail",
   "metadata": {},
   "source": [
    "### Result plots"
   ]
  },
  {
   "cell_type": "code",
   "execution_count": null,
   "id": "nearby-officer",
   "metadata": {},
   "outputs": [],
   "source": [
    "fig = plot_overview(global_result.data[\"dataset1\"], linlog=False)"
   ]
  },
  {
   "cell_type": "code",
   "execution_count": null,
   "id": "rubber-temperature",
   "metadata": {},
   "outputs": [],
   "source": [
    "print_md(global_result.optimized_parameters)"
   ]
  },
  {
   "cell_type": "markdown",
   "id": "dimensional-burner",
   "metadata": {},
   "source": [
    "## Target analysis\n",
    "\n",
    "Theoretical background from ``compartmental_models.pdf``\n",
    "\n",
    "![model_scheme](target_scheme.jpg)\n",
    "\n",
    "\n",
    "Concentration vector\n",
    "\n",
    "$$c(t)= \\begin{bmatrix} S(t) & B(t) & R_1(t) & R_2(t) & F(t)\\end{bmatrix}^T$$\n",
    "\n",
    "The concentration function correspond to\n",
    "\n",
    "| ***Function name***    | ***S(t)***   | ***B(t)***   | ***R_1(t)***   | ***R_2(t)***   | ***F(t)***   |\n",
    "|------------------------|--------------|--------------|----------------|----------------|--------------|\n",
    "| **Name in the schema** | Soret        | Bulk         | Red1           | Red2           | Free         |\n",
    "\n",
    "\n",
    "Differential equation\n",
    "\n",
    "$$\\dfrac{\\mathrm{d}}{\\mathrm{dt}}c(t) = \\mathbf{K}c(t)+j(t)$$\n",
    "\n",
    "Input function\n",
    "\n",
    "$$j(t) = i(t) \\begin{bmatrix} 1&0&0&0&0\\end{bmatrix}^T$$\n",
    "\n",
    "Transfer maxtrix $\\mathbf{K}$\n",
    "\n",
    "$$\n",
    "\\mathbf{K} = \\begin{bmatrix} \n",
    "    -(k_{21} + k_{31} + k_{41} + k_{51}) &                          &                   &                  &       \\\\ \n",
    "    k_{21}                               & -(k_T + k_{32} + k_{42}) & k_{23}            & k_{24}           &       \\\\\n",
    "    k_{31}                               &  k_{32}                  & -(k_{F} + k_{23}) &                  &       \\\\\n",
    "    k_{41}                               &  k_{42}                  &                   & -(k_{F} + k_{24}) &      \\\\\n",
    "    k_{51}                               &                          &                   &                  & k_{F} \\\\\n",
    "    \\end{bmatrix}\n",
    "$$\n",
    "\n",
    "- $k_T$: effective rate constant of Chl, T stands for photochemical Trapping of the excitation energy\n",
    "- $k_F$: natural decay rate of free Chl, F stands for Fluorescence"
   ]
  },
  {
   "cell_type": "code",
   "execution_count": null,
   "id": "veterinary-sound",
   "metadata": {},
   "outputs": [],
   "source": [
    "# Just a little helper to quickly make a pretty table\n",
    "from tabulate import tabulate\n",
    "\n",
    "headers = list(\n",
    "    map(\n",
    "        lambda x: f\"***{x}***\",\n",
    "        [\"Function name\", \"S(t)\", \"B(t)\", \"R_1(t)\", \"R_2(t)\", \"F(t)\"],\n",
    "    )\n",
    ")\n",
    "print(\n",
    "    tabulate(\n",
    "        [[\"**Name in the schema**\", \"Soret\", \"Bulk\", \"Red1\", \"Red2\", \"Free\"]],\n",
    "        headers=headers,\n",
    "        tablefmt=\"github\",\n",
    "    )\n",
    ")"
   ]
  },
  {
   "cell_type": "markdown",
   "id": "fatal-female",
   "metadata": {},
   "source": [
    "### Reduced K-matrix\n",
    "\n",
    "$$\n",
    "\\mathbf{K} = \\begin{bmatrix} \n",
    "           &        &        &        &       \\\\ \n",
    "    k_{21} & k_T    & k_{23} & k_{24} &       \\\\\n",
    "    k_{31} & k_{32} & k_{F}  &        &       \\\\\n",
    "    k_{41} & k_{42} &        & k_{F}  &       \\\\\n",
    "    k_{51} &        &        &        & k_{F} \\\\\n",
    "    \\end{bmatrix}\n",
    "$$\n",
    "\n",
    "### Reduced K-matrix ignoring input to Red1 and Red2\n",
    "\n",
    "$$\n",
    "\\mathbf{K} = \\begin{bmatrix} \n",
    "           &        &        &        &       \\\\ \n",
    "    k_{21} & k_T    & k_{23} & k_{24} &       \\\\\n",
    "           & k_{32} & k_{F}  &        &       \\\\\n",
    "           & k_{42} &        & k_{F}  &       \\\\\n",
    "    k_{51} &        &        &        & k_{F} \\\\\n",
    "    \\end{bmatrix}\n",
    "$$\n",
    "\n",
    "With the rate relations:\n",
    "\n",
    "- $k_{23} = a_1~k_{32}$\n",
    "- $k_{24} = a_2~k_{42}$"
   ]
  },
  {
   "cell_type": "markdown",
   "id": "aging-thursday",
   "metadata": {},
   "source": [
    "### target-model.yml"
   ]
  },
  {
   "cell_type": "code",
   "execution_count": null,
   "id": "minimal-fairy",
   "metadata": {},
   "outputs": [],
   "source": [
    "print_yaml_file(\"models/target-model.yml\")"
   ]
  },
  {
   "cell_type": "markdown",
   "id": "scenic-exclusion",
   "metadata": {},
   "source": [
    "### target-parameters.yml"
   ]
  },
  {
   "cell_type": "code",
   "execution_count": null,
   "id": "veterinary-island",
   "metadata": {},
   "outputs": [],
   "source": [
    "print_yaml_file(\"models/target-parameters.yml\")"
   ]
  },
  {
   "cell_type": "code",
   "execution_count": null,
   "id": "happy-president",
   "metadata": {},
   "outputs": [],
   "source": [
    "target_model = load_model(\"models/target-model.yml\")\n",
    "target_parameters = load_parameters(\"models/target-parameters.yml\")\n",
    "print_md(target_model.validate(parameters=target_parameters))"
   ]
  },
  {
   "cell_type": "code",
   "execution_count": null,
   "id": "elementary-trick",
   "metadata": {},
   "outputs": [],
   "source": [
    "print_md(target_model)"
   ]
  },
  {
   "cell_type": "markdown",
   "id": "plain-bibliography",
   "metadata": {},
   "source": [
    "### Create scheme and optimize it"
   ]
  },
  {
   "cell_type": "code",
   "execution_count": null,
   "id": "billion-emerald",
   "metadata": {},
   "outputs": [],
   "source": [
    "target_scheme = Scheme(\n",
    "    target_model,\n",
    "    target_parameters,\n",
    "    {\"dataset1\": dataset},\n",
    "    non_negative_least_squares=True,\n",
    ")\n",
    "target_result = optimize(target_scheme)"
   ]
  },
  {
   "cell_type": "code",
   "execution_count": null,
   "id": "decent-channels",
   "metadata": {},
   "outputs": [],
   "source": [
    "target_result.data[\"dataset1\"]"
   ]
  },
  {
   "cell_type": "markdown",
   "id": "exclusive-register",
   "metadata": {},
   "source": [
    "### Result plots"
   ]
  },
  {
   "cell_type": "code",
   "execution_count": null,
   "id": "current-conservation",
   "metadata": {},
   "outputs": [],
   "source": [
    "fig = plot_overview(target_result.data[\"dataset1\"], linlog=False)"
   ]
  },
  {
   "cell_type": "code",
   "execution_count": null,
   "id": "horizontal-chassis",
   "metadata": {},
   "outputs": [],
   "source": [
    "print_md(target_result.optimized_parameters)"
   ]
  }
 ],
 "metadata": {
  "kernelspec": {
   "display_name": "Python 3",
   "language": "python",
   "name": "python3"
  },
  "language_info": {
   "codemirror_mode": {
    "name": "ipython",
    "version": 3
   },
   "file_extension": ".py",
   "mimetype": "text/x-python",
   "name": "python",
   "nbconvert_exporter": "python",
   "pygments_lexer": "ipython3",
   "version": "3.8.6"
  }
 },
 "nbformat": 4,
 "nbformat_minor": 5
}
