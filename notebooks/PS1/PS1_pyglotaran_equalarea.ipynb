{
 "cells": [
  {
   "cell_type": "markdown",
   "id": "9948d021-f571-47d0-8f1b-1fd0380cf8be",
   "metadata": {},
   "source": [
    "# cyano-PS1 case study estimate scaling with equal area penalty"
   ]
  },
  {
   "cell_type": "markdown",
   "id": "transsexual-chemical",
   "metadata": {},
   "source": [
    "### Notebook helper function for pretty output"
   ]
  },
  {
   "cell_type": "code",
   "execution_count": null,
   "id": "structured-indie",
   "metadata": {},
   "outputs": [],
   "source": [
    "from glotaran.utils.ipython import display_file"
   ]
  },
  {
   "cell_type": "markdown",
   "id": "amazing-sauce",
   "metadata": {},
   "source": [
    "### Plotting functions ([`pyglotaran_extras`](https://github.com/s-weigand/pyglotaran-extras/commit/20da3593105fb839f86e668dc12dc9ca87c3b9ce) + `matplotlib`)"
   ]
  },
  {
   "cell_type": "code",
   "execution_count": null,
   "id": "threaded-compatibility",
   "metadata": {
    "tags": []
   },
   "outputs": [],
   "source": [
    "import matplotlib.pyplot as plt\n",
    "from pyglotaran_extras.plotting.plot_overview import plot_overview\n",
    "from pyglotaran_extras.plotting.style import PlotStyle\n",
    "\n",
    "plot_style = PlotStyle()\n",
    "plt.rc(\"axes\", prop_cycle=plot_style.cycler)\n",
    "plt.rcParams[\"figure.figsize\"] = (21, 14)"
   ]
  },
  {
   "cell_type": "markdown",
   "id": "norwegian-shock",
   "metadata": {},
   "source": [
    "### Analysis functions"
   ]
  },
  {
   "cell_type": "code",
   "execution_count": null,
   "id": "employed-celtic",
   "metadata": {},
   "outputs": [],
   "source": [
    "from glotaran.analysis.optimize import optimize\n",
    "from glotaran.io import load_dataset\n",
    "from glotaran.io import load_model\n",
    "from glotaran.io import load_parameters\n",
    "from glotaran.project.scheme import Scheme"
   ]
  },
  {
   "cell_type": "markdown",
   "id": "06ccb174-fd24-4cc6-96d3-4b001f63a59a",
   "metadata": {},
   "source": [
    "### Read data"
   ]
  },
  {
   "cell_type": "code",
   "execution_count": null,
   "id": "02197bbd-129f-4e9e-868e-837511a6008c",
   "metadata": {},
   "outputs": [],
   "source": [
    "dataset = load_dataset(\"streakdata.ascii\")\n",
    "dataset"
   ]
  },
  {
   "cell_type": "markdown",
   "id": "f19a6b57-48b4-4a5a-83bd-edbd8cf9d45f",
   "metadata": {},
   "source": [
    "## Target analysis\n",
    "\n",
    "Theoretical background from ``compartmental_models.pdf``\n",
    "\n",
    "![model_sheme](target_scheme.jpg)\n",
    "\n",
    "\n",
    "Concentration vector\n",
    "\n",
    "$$c(t)= \\begin{bmatrix} S(t) & B(t) & R_1(t) & R_2(t) & F(t)\\end{bmatrix}^T$$\n",
    "\n",
    "The concentration function correspond to\n",
    "\n",
    "| ***Function name***    | ***S(t)***   | ***B(t)***   | ***R_1(t)***   | ***R_2(t)***   | ***F(t)***   |\n",
    "|------------------------|--------------|--------------|----------------|----------------|--------------|\n",
    "| **Name in the schema** | Soret        | Bulk         | Red1           | Red2           | Free         |\n",
    "\n",
    "\n",
    "Differential equation\n",
    "\n",
    "$$\\dfrac{\\mathrm{d}}{\\mathrm{dt}}c(t) = \\mathbf{K}c(t)+j(t)$$\n",
    "\n",
    "Input function\n",
    "\n",
    "$$j(t) = i(t) \\begin{bmatrix} 1&0&0&0&0\\end{bmatrix}^T$$\n",
    "\n",
    "Transfer maxtrix $\\mathbf{K}$\n",
    "\n",
    "$$\n",
    "\\mathbf{K} = \\begin{bmatrix} \n",
    "    -(k_{21} + k_{31} + k_{41} + k_{51}) &                          &                   &                  &       \\\\ \n",
    "    k_{21}                               & -(k_T + k_{32} + k_{42}) & k_{23}            & k_{24}           &       \\\\\n",
    "    k_{31}                               &  k_{32}                  & -(k_{F} + k_{23}) &                  &       \\\\\n",
    "    k_{41}                               &  k_{42}                  &                   & -(k_{F} + k_{24}) &      \\\\\n",
    "    k_{51}                               &                          &                   &                  & k_{F} \\\\\n",
    "    \\end{bmatrix}\n",
    "$$\n",
    "\n",
    "- $k_T$: effective rate constantof Chl, T stands for photochemical Trapping of the excitation energy\n",
    "- $k_F$: natural decay rate of free Chl, F stands for Fluorescence"
   ]
  },
  {
   "cell_type": "markdown",
   "id": "fatal-female",
   "metadata": {},
   "source": [
    "### Reduced K-matrix\n",
    "\n",
    "$$\n",
    "\\mathbf{K} = \\begin{bmatrix} \n",
    "           &        &        &        &       \\\\ \n",
    "    k_{21} & k_T    & k_{23} & k_{24} &       \\\\\n",
    "    k_{31} & k_{32} & k_{F}  &        &       \\\\\n",
    "    k_{41} & k_{42} &        & k_{F}  &       \\\\\n",
    "    k_{51} &        &        &        & k_{F} \\\\\n",
    "    \\end{bmatrix}\n",
    "$$\n",
    "\n",
    "### Reduced K-matrix ignoring input to Red1 and Red2\n",
    "\n",
    "$$\n",
    "\\mathbf{K} = \\begin{bmatrix} \n",
    "           &        &        &        &       \\\\ \n",
    "    k_{21} & k_T    & k_{23} & k_{24} &       \\\\\n",
    "           & k_{32} & k_{F}  &        &       \\\\\n",
    "           & k_{42} &        & k_{F}  &       \\\\\n",
    "    k_{51} &        &        &        & k_{F} \\\\\n",
    "    \\end{bmatrix}\n",
    "$$\n",
    "\n",
    "With the rate relations:\n",
    "\n",
    "- $k_{23} = a_1~k_{32}$\n",
    "- $k_{24} = a_2~k_{42}$"
   ]
  },
  {
   "cell_type": "markdown",
   "id": "aging-thursday",
   "metadata": {},
   "source": [
    "### equal_area-target-model.yml"
   ]
  },
  {
   "cell_type": "code",
   "execution_count": null,
   "id": "minimal-fairy",
   "metadata": {},
   "outputs": [],
   "source": [
    "display_file(\"models/equal_area-target-model.yml\", syntax=\"yaml\")"
   ]
  },
  {
   "cell_type": "markdown",
   "id": "scenic-exclusion",
   "metadata": {},
   "source": [
    "### equal_area-target-parameters.yml"
   ]
  },
  {
   "cell_type": "code",
   "execution_count": null,
   "id": "veterinary-island",
   "metadata": {},
   "outputs": [],
   "source": [
    "display_file(\"models/equal_area-target-parameters.yml\", syntax=\"yml\")"
   ]
  },
  {
   "cell_type": "code",
   "execution_count": null,
   "id": "happy-president",
   "metadata": {},
   "outputs": [],
   "source": [
    "target_model = load_model(\"models/equal_area-target-model.yml\")\n",
    "target_parameters = load_parameters(\"models/equal_area-target-parameters.yml\")\n",
    "target_model.validate(parameters=target_parameters)"
   ]
  },
  {
   "cell_type": "code",
   "execution_count": null,
   "id": "elementary-trick",
   "metadata": {},
   "outputs": [],
   "source": [
    "target_model"
   ]
  },
  {
   "cell_type": "markdown",
   "id": "plain-bibliography",
   "metadata": {},
   "source": [
    "### Create scheme and optimize it"
   ]
  },
  {
   "cell_type": "code",
   "execution_count": null,
   "id": "billion-emerald",
   "metadata": {},
   "outputs": [],
   "source": [
    "target_scheme = Scheme(\n",
    "    target_model,\n",
    "    target_parameters,\n",
    "    {\"dataset1\": dataset},\n",
    "    non_negative_least_squares=True,\n",
    ")\n",
    "target_result = optimize(target_scheme)"
   ]
  },
  {
   "cell_type": "code",
   "execution_count": null,
   "id": "decent-channels",
   "metadata": {},
   "outputs": [],
   "source": [
    "target_result.data[\"dataset1\"]"
   ]
  },
  {
   "cell_type": "markdown",
   "id": "exclusive-register",
   "metadata": {},
   "source": [
    "### Result plots"
   ]
  },
  {
   "cell_type": "code",
   "execution_count": null,
   "id": "current-conservation",
   "metadata": {},
   "outputs": [],
   "source": [
    "plot_overview(target_result.data[\"dataset1\"], linlog=False)"
   ]
  },
  {
   "cell_type": "code",
   "execution_count": null,
   "id": "horizontal-chassis",
   "metadata": {},
   "outputs": [],
   "source": [
    "target_result.optimized_parameters"
   ]
  }
 ],
 "metadata": {
  "kernelspec": {
   "display_name": "Python 3",
   "language": "python",
   "name": "python3"
  },
  "language_info": {
   "codemirror_mode": {
    "name": "ipython",
    "version": 3
   },
   "file_extension": ".py",
   "mimetype": "text/x-python",
   "name": "python",
   "nbconvert_exporter": "python",
   "pygments_lexer": "ipython3",
   "version": "3.8.6"
  }
 },
 "nbformat": 4,
 "nbformat_minor": 5
}
