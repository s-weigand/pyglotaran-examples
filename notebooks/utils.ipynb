{
 "cells": [
  {
   "cell_type": "markdown",
   "metadata": {},
   "source": [
    "# Kmatrix input widget\n",
    "\n",
    "Needs `ipywidgets` and `jupyterlab_widgets`\n",
    "```console\n",
    "$ pip install jupyterlab_widgets ipywidgets\n",
    "```\n",
    "\n",
    "Uncomment the code in following cell in your notebook, restart the kernel and reload the page to install it just now"
   ]
  },
  {
   "cell_type": "code",
   "execution_count": null,
   "metadata": {},
   "outputs": [],
   "source": [
    "# !pip install jupyterlab_widgets ipywidgets"
   ]
  },
  {
   "cell_type": "code",
   "execution_count": 25,
   "metadata": {},
   "outputs": [],
   "source": [
    "from __future__ import annotations"
   ]
  },
  {
   "cell_type": "code",
   "execution_count": 26,
   "metadata": {},
   "outputs": [],
   "source": [
    "from collections import UserString\n",
    "from typing import Callable\n",
    "\n",
    "import ipywidgets as widgets\n",
    "import yaml\n",
    "from IPython.display import Markdown, display\n",
    "from ipywidgets import GridspecLayout, Layout"
   ]
  },
  {
   "cell_type": "markdown",
   "metadata": {},
   "source": [
    "## Define functions needed for the widget"
   ]
  },
  {
   "cell_type": "code",
   "execution_count": 34,
   "metadata": {},
   "outputs": [],
   "source": [
    "class MarkdowStr(UserString):\n",
    "    def __init__(self, markdown_str: str, *, syntax=None):\n",
    "        self.data = markdown_str\n",
    "        self.syntax = syntax\n",
    "\n",
    "    def _repr_markdown_(self):\n",
    "        if self.syntax is not None:\n",
    "            return f\"```{self.syntax}\\n{self.data}\\n```\"\n",
    "        else:\n",
    "            return self.data\n",
    "        \n",
    "    def __str__(self):\n",
    "        return self._repr_markdown_()"
   ]
  },
  {
   "cell_type": "code",
   "execution_count": 28,
   "metadata": {},
   "outputs": [],
   "source": [
    "def create_input_grid(compartments: list[str]):\n",
    "    size = len(compartments)\n",
    "    grid = GridspecLayout(size, size, width=f\"{(size*1.1)**2}em\")\n",
    "    for i in range(size):\n",
    "        for j in range(size):\n",
    "            grid[i, j] = widgets.Text(layout=Layout(height=\"4em\", width=\"4em\"))\n",
    "    return grid"
   ]
  },
  {
   "cell_type": "code",
   "execution_count": 29,
   "metadata": {},
   "outputs": [
    {
     "data": {
      "application/vnd.jupyter.widget-view+json": {
       "model_id": "b52cb73c57a54527943578c12a78d1fd",
       "version_major": 2,
       "version_minor": 0
      },
      "text/plain": [
       "GridspecLayout(children=(Text(value='', layout=Layout(grid_area='widget001', height='4em', width='4em')), Text…"
      ]
     },
     "metadata": {},
     "output_type": "display_data"
    }
   ],
   "source": [
    "compartments = [f\"s{i}\" for i in range(1, 5)]\n",
    "grid = create_input_grid(compartments)\n",
    "grid"
   ]
  },
  {
   "cell_type": "code",
   "execution_count": 30,
   "metadata": {},
   "outputs": [
    {
     "data": {
      "text/markdown": [
       "```yaml\n",
       "kinetic: []\n",
       "\n",
       "```"
      ],
      "text/plain": [
       "'kinetic: []\\n'"
      ]
     },
     "execution_count": 30,
     "metadata": {},
     "output_type": "execute_result"
    }
   ],
   "source": [
    "def grid_to_parameter(grid: GridspecLayout, *, parameter_name: str = \"kinetic\"):\n",
    "    parameters = set()\n",
    "    for child in grid.children:\n",
    "        if not isinstance(child, widgets.Widget):\n",
    "            continue\n",
    "        value = child.value\n",
    "        if value == \"\":\n",
    "            continue\n",
    "        parameters.add(f'[\"{value}\", 1e-2, {{vary: true}}]')\n",
    "\n",
    "    values = {parameter_name: sorted(list(parameters))}\n",
    "    return MarkdowStr(\n",
    "        yaml.dump(values).replace(\"'\", \"\").replace(\"- \", \"  - \"), syntax=\"yaml\"\n",
    "    )\n",
    "\n",
    "\n",
    "grid_to_parameter(grid)"
   ]
  },
  {
   "cell_type": "code",
   "execution_count": 31,
   "metadata": {},
   "outputs": [
    {
     "data": {
      "text/markdown": [
       "```yaml\n",
       "k_matrix:\n",
       "  km3:\n",
       "    matrix: {}\n",
       "\n",
       "```"
      ],
      "text/plain": [
       "'k_matrix:\\n  km3:\\n    matrix: {}\\n'"
      ]
     },
     "execution_count": 31,
     "metadata": {},
     "output_type": "execute_result"
    }
   ],
   "source": [
    "def grid_to_matrix(\n",
    "    grid: GridspecLayout,\n",
    "    compartments: list[str],\n",
    "    *,\n",
    "    matrix_name: str = \"km1\",\n",
    "    parameter_name: str = \"kinetic\",\n",
    "):\n",
    "    matrix_entries = {}\n",
    "    size = len(compartments)\n",
    "    for i in range(size):\n",
    "        for j in range(size):\n",
    "            child = grid[i, j]\n",
    "            if not isinstance(child, widgets.Widget):\n",
    "                continue\n",
    "            value = child.value\n",
    "            if value != \"\":\n",
    "                key = f\"({compartments[i]}, {compartments[j]})\"\n",
    "                matrix_entries[key] = f\"{parameter_name}.{value}\"\n",
    "    values = {\"k_matrix\": {matrix_name: {\"matrix\": matrix_entries}}}\n",
    "    return MarkdowStr(yaml.dump(values), syntax=\"yaml\")\n",
    "\n",
    "\n",
    "grid_to_matrix(grid, compartments, matrix_name=\"km3\")"
   ]
  },
  {
   "cell_type": "code",
   "execution_count": 32,
   "metadata": {},
   "outputs": [],
   "source": [
    "def bind_callbacks(grid: GridspecLayout, callback: Callable[[...], ...]):\n",
    "    for child in grid.children:\n",
    "        if isinstance(child, widgets.Widget):\n",
    "            child.observe(callback)"
   ]
  },
  {
   "cell_type": "markdown",
   "metadata": {},
   "source": [
    "## Final widget function \n",
    "This function allows quickly converting a legacy K-Matrix to the new pyglotaran yaml style."
   ]
  },
  {
   "cell_type": "code",
   "execution_count": 39,
   "metadata": {},
   "outputs": [
    {
     "data": {
      "application/vnd.jupyter.widget-view+json": {
       "model_id": "7ae71d9885ee47538cd2ed4dfc1fe720",
       "version_major": 2,
       "version_minor": 0
      },
      "text/plain": [
       "VBox(children=(GridspecLayout(children=(Text(value='', layout=Layout(grid_area='widget001', height='4em', widt…"
      ]
     },
     "metadata": {},
     "output_type": "display_data"
    }
   ],
   "source": [
    "def matrix_helper(\n",
    "    compartments: list[str],\n",
    "    *,\n",
    "    matrix_name=\"km1\",\n",
    "    parameter_name=\"kinetic\",\n",
    "):\n",
    "    grid = create_input_grid(compartments)\n",
    "    out = widgets.Output()\n",
    "\n",
    "    def display_yml(*args, **kwargs):\n",
    "        out.clear_output(wait=True)\n",
    "        with out:\n",
    "            matrix_str = grid_to_matrix(\n",
    "                grid=grid,\n",
    "                compartments=compartments,\n",
    "                matrix_name=\"km1\",\n",
    "                parameter_name=parameter_name,\n",
    "            )\n",
    "\n",
    "            parameter_str = grid_to_parameter(\n",
    "                grid=grid, parameter_name=parameter_name\n",
    "            )\n",
    "\n",
    "            model_str = f\"Add the following to your `model.yml`: \\n{matrix_str}\\n\"\n",
    "            parameter_str = (\n",
    "                f\"Add the following to your `parameter.yml`: \\n{parameter_str}\"\n",
    "            )\n",
    "\n",
    "            display_obj = Markdown(f\"{model_str} <br>{parameter_str}\")\n",
    "            display(display_obj)\n",
    "            \n",
    "\n",
    "    bind_callbacks(grid, display_yml)\n",
    "    return widgets.VBox([grid, out])\n",
    "\n",
    "\n",
    "matrix_helper([*compartments, \"s5\"])"
   ]
  },
  {
   "cell_type": "markdown",
   "metadata": {},
   "source": [
    "## Format notebook"
   ]
  },
  {
   "cell_type": "code",
   "execution_count": null,
   "metadata": {},
   "outputs": [],
   "source": [
    "# !nbqa black utils.ipynb --nbqa-mutate\n",
    "# !nbqa isort utils.ipynb --nbqa-mutate"
   ]
  },
  {
   "cell_type": "code",
   "execution_count": null,
   "metadata": {},
   "outputs": [],
   "source": []
  }
 ],
 "metadata": {
  "kernelspec": {
   "display_name": "Python 3",
   "language": "python",
   "name": "python3"
  },
  "language_info": {
   "codemirror_mode": {
    "name": "ipython",
    "version": 3
   },
   "file_extension": ".py",
   "mimetype": "text/x-python",
   "name": "python",
   "nbconvert_exporter": "python",
   "pygments_lexer": "ipython3",
   "version": "3.8.6"
  }
 },
 "nbformat": 4,
 "nbformat_minor": 4
}
