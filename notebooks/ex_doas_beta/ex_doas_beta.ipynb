{
 "cells": [
  {
   "cell_type": "markdown",
   "id": "14406728",
   "metadata": {},
   "source": [
    "# Imports"
   ]
  },
  {
   "cell_type": "markdown",
   "id": "06820264",
   "metadata": {},
   "source": [
    "### Plotting functions ([`pyglotaran_extras`](https://github.com/s-weigand/pyglotaran-extras/commit/20da3593105fb839f86e668dc12dc9ca87c3b9ce) + `matplotlib`)"
   ]
  },
  {
   "cell_type": "code",
   "execution_count": null,
   "id": "edacb9ae",
   "metadata": {
    "tags": []
   },
   "outputs": [],
   "source": [
    "%matplotlib inline\n",
    "import matplotlib.pyplot as plt\n",
    "from pyglotaran_extras.io.boilerplate import setup_case_study\n",
    "from pyglotaran_extras.plotting.plot_overview import plot_overview\n",
    "from pyglotaran_extras.plotting.style import PlotStyle\n",
    "\n",
    "plot_style = PlotStyle()\n",
    "plt.rc(\"axes\", prop_cycle=plot_style.cycler)\n",
    "plt.rcParams[\"figure.figsize\"] = (21, 14)"
   ]
  },
  {
   "cell_type": "markdown",
   "id": "64164546",
   "metadata": {},
   "source": [
    "### Analysis functions"
   ]
  },
  {
   "cell_type": "code",
   "execution_count": null,
   "id": "7b14b7ec",
   "metadata": {},
   "outputs": [],
   "source": [
    "from glotaran.analysis.optimize import optimize\n",
    "from glotaran.io import load_dataset\n",
    "from glotaran.io import load_model\n",
    "from glotaran.io import load_parameters\n",
    "from glotaran.project.scheme import Scheme"
   ]
  },
  {
   "cell_type": "markdown",
   "id": "58a0a8c4",
   "metadata": {},
   "source": [
    "# Analysis setup"
   ]
  },
  {
   "cell_type": "code",
   "execution_count": null,
   "id": "24084c84",
   "metadata": {},
   "outputs": [],
   "source": [
    "results_folder, script_folder = setup_case_study(output_folder_name=\"pyglotaran_examples_results\")\n",
    "results_folder = results_folder / \"target_analysis\""
   ]
  },
  {
   "cell_type": "markdown",
   "id": "f06cc463",
   "metadata": {},
   "source": [
    "# Load files"
   ]
  },
  {
   "cell_type": "code",
   "execution_count": null,
   "id": "01c65069",
   "metadata": {},
   "outputs": [],
   "source": [
    "dataset = load_dataset(script_folder / \"data/2008Polli_betacar_chex_sim.ascii\")\n",
    "model = load_model(script_folder / \"models/model.yml\")\n",
    "parameters = load_parameters(script_folder / \"models/parameters.yml\")"
   ]
  },
  {
   "cell_type": "markdown",
   "id": "d6605191",
   "metadata": {},
   "source": [
    "# Optimization"
   ]
  },
  {
   "cell_type": "code",
   "execution_count": null,
   "id": "5bd7cf22",
   "metadata": {},
   "outputs": [],
   "source": [
    "scheme = Scheme(\n",
    "    model=model,\n",
    "    parameters=parameters,\n",
    "    data={\"dataset1\": dataset},\n",
    "    non_negative_least_squares=False,\n",
    "    optimization_method=\"TrustRegionReflection\",\n",
    "    maximum_number_function_evaluations=5,\n",
    "    #     maximum_number_function_evaluations=1,\n",
    ")\n",
    "result = optimize(scheme)"
   ]
  },
  {
   "cell_type": "markdown",
   "id": "0280ea0c",
   "metadata": {
    "tags": []
   },
   "source": [
    "# Results"
   ]
  },
  {
   "cell_type": "markdown",
   "id": "f1600322",
   "metadata": {},
   "source": [
    "## RMS"
   ]
  },
  {
   "cell_type": "code",
   "execution_count": null,
   "id": "4c93972e",
   "metadata": {},
   "outputs": [],
   "source": [
    "result"
   ]
  },
  {
   "cell_type": "markdown",
   "id": "090fd057",
   "metadata": {},
   "source": [
    "## Optimized parameters"
   ]
  },
  {
   "cell_type": "code",
   "execution_count": null,
   "id": "ebec75d6",
   "metadata": {},
   "outputs": [],
   "source": [
    "result.optimized_parameters"
   ]
  },
  {
   "cell_type": "markdown",
   "id": "0f2c918d",
   "metadata": {},
   "source": [
    "# Plots"
   ]
  },
  {
   "cell_type": "markdown",
   "id": "7a410b2e",
   "metadata": {},
   "source": [
    "## Overview"
   ]
  },
  {
   "cell_type": "code",
   "execution_count": null,
   "id": "8be30fd6",
   "metadata": {},
   "outputs": [],
   "source": [
    "plot_overview(result.data[\"dataset1\"], linlog=True);"
   ]
  },
  {
   "cell_type": "markdown",
   "id": "551886a1",
   "metadata": {},
   "source": [
    "## Data and fits"
   ]
  },
  {
   "cell_type": "markdown",
   "id": "3c4eb1f7",
   "metadata": {},
   "source": [
    "### Function definitions"
   ]
  },
  {
   "cell_type": "code",
   "execution_count": null,
   "id": "b35bb403",
   "metadata": {
    "tags": []
   },
   "outputs": [],
   "source": [
    "import numpy as np\n",
    "import xarray as xr\n",
    "from glotaran.project.result import Result\n",
    "from matplotlib.pyplot import Axes\n",
    "\n",
    "\n",
    "def plot_data_and_fits(\n",
    "    result: Result, wavelength: float, axis: Axes, linlog=False, linthresh=1, use_label=True\n",
    "):\n",
    "    for dataset_name in result.data.keys():\n",
    "        result_data = result.data[dataset_name].sel(spectral=[wavelength], method=\"nearest\")\n",
    "        result_data.data.plot(x=\"time\", ax=axis, label=f\"{dataset_name}_data\" if use_label else \"\")\n",
    "        result_data.fitted_data.plot(\n",
    "            x=\"time\", ax=axis, label=f\"{dataset_name}_fit\" if use_label else \"\"\n",
    "        )\n",
    "    if linlog:\n",
    "        axis.set_xscale(\"symlog\", linthresh=linthresh)\n",
    "    axis.set_ylabel(\"Intensity\")\n",
    "\n",
    "\n",
    "def get_overlap(result: Result, coord_name: str = \"spectral\"):\n",
    "    minima = []\n",
    "    maxima = []\n",
    "    for dataset in result.data.values():\n",
    "        coord = dataset.coords[coord_name]\n",
    "        minima.append(coord.values.min())\n",
    "        maxima.append(coord.values.max())\n",
    "    return min(minima), max(maxima)\n",
    "\n",
    "\n",
    "def plot_fit_overview(\n",
    "    result: Result, axes_shape=(4, 4), linlog=False, linthresh=1, figsize=(30, 15), *args, **kwargs\n",
    "):\n",
    "    fig, axes = plt.subplots(*axes_shape, figsize=figsize)\n",
    "    fig.patch.set_facecolor(\"white\")\n",
    "    fig.title = \"Fit overview\"\n",
    "    wavelengths = np.linspace(*get_overlap(result), num=len(axes.flatten()))\n",
    "    use_label = True\n",
    "    for wavelength, axis in zip(wavelengths, axes.flatten()):\n",
    "        plot_data_and_fits(\n",
    "            result=result,\n",
    "            wavelength=wavelength,\n",
    "            axis=axis,\n",
    "            linlog=linlog,\n",
    "            linthresh=linthresh,\n",
    "            use_label=use_label,\n",
    "        )\n",
    "        use_label = False\n",
    "    fig.legend()\n",
    "    fig.suptitle(\"Fit overview\", fontsize=28)\n",
    "    fig.tight_layout()\n",
    "    return fig, axes"
   ]
  },
  {
   "cell_type": "markdown",
   "id": "b57d4191",
   "metadata": {},
   "source": [
    "### Plots"
   ]
  },
  {
   "cell_type": "code",
   "execution_count": null,
   "id": "e2b23ca6-afac-4fa3-8015-41b09911185b",
   "metadata": {},
   "outputs": [],
   "source": [
    "np.prod((4, 4))"
   ]
  },
  {
   "cell_type": "code",
   "execution_count": null,
   "id": "357dacd0-2e16-4ad3-b0a0-0ffb9c77a8f3",
   "metadata": {},
   "outputs": [],
   "source": [
    "len(result.data[\"dataset1\"].coords[\"spectral\"])"
   ]
  },
  {
   "cell_type": "code",
   "execution_count": null,
   "id": "947f1e60",
   "metadata": {},
   "outputs": [],
   "source": [
    "fig, axes = plot_fit_overview(result, axes_shape=(4, 4), linlog=True, linthresh=1)"
   ]
  },
  {
   "cell_type": "markdown",
   "id": "ec071902",
   "metadata": {},
   "source": [
    "## Result dataset"
   ]
  },
  {
   "cell_type": "code",
   "execution_count": null,
   "id": "0a6f304a",
   "metadata": {},
   "outputs": [],
   "source": [
    "result.data[\"dataset1\"]"
   ]
  },
  {
   "cell_type": "code",
   "execution_count": null,
   "id": "26b1d3d8",
   "metadata": {},
   "outputs": [],
   "source": [
    "result.data[\"dataset1\"].clp_label"
   ]
  },
  {
   "cell_type": "markdown",
   "id": "39f5da08",
   "metadata": {},
   "source": [
    "## IRF"
   ]
  },
  {
   "cell_type": "code",
   "execution_count": null,
   "id": "025f5be8",
   "metadata": {},
   "outputs": [],
   "source": [
    "time_slice_max = 200\n",
    "plot_time_slice = slice(30, time_slice_max)"
   ]
  },
  {
   "cell_type": "code",
   "execution_count": null,
   "id": "178cb801",
   "metadata": {},
   "outputs": [],
   "source": [
    "irf_data = result.data[\"dataset1\"][\"irf\"].isel(time=slice(0, time_slice_max))\n",
    "irf_data_diff1 = irf_data.diff(\"time\")\n",
    "irf_data_diff2 = irf_data_diff1.diff(\"time\")"
   ]
  },
  {
   "cell_type": "code",
   "execution_count": null,
   "id": "2a9221f0",
   "metadata": {},
   "outputs": [],
   "source": [
    "irf_data.isel(time=plot_time_slice).plot.line(x=\"time\")\n",
    "irf_data_diff1.isel(time=plot_time_slice).plot.line(x=\"time\")\n",
    "irf_data_diff2.isel(time=plot_time_slice).plot.line(x=\"time\")\n",
    "plt.legend((\"IRF\", \"IRF'\", \"IRF''\"))"
   ]
  },
  {
   "cell_type": "code",
   "execution_count": null,
   "id": "3f42745a",
   "metadata": {},
   "outputs": [],
   "source": [
    "\"coherent_artifact_1\"\n",
    "for label in result.data[\"dataset1\"].clp_label:\n",
    "    if label.item().startswith(\"coherent_artifact\"):\n",
    "        result.data[\"dataset1\"][\"clp\"].sel(clp_label=label).plot()  # .plot(ylim=(-0.01,0.01))"
   ]
  },
  {
   "cell_type": "markdown",
   "id": "14c29550",
   "metadata": {},
   "source": [
    "## DOAS related data variables\n",
    "damped_oscillation_associated_spectra\n",
    "\n",
    "damped_oscillation_phase\n",
    "\n",
    "damped_oscillation_sin\n",
    "\n",
    "damped_oscillation_cos"
   ]
  },
  {
   "cell_type": "markdown",
   "id": "f70644c2",
   "metadata": {},
   "source": [
    "### damped_oscillation_phase"
   ]
  },
  {
   "cell_type": "code",
   "execution_count": null,
   "id": "4e122477",
   "metadata": {},
   "outputs": [],
   "source": [
    "result.data[\"dataset1\"][\"damped_oscillation_phase\"].plot.line(x=\"spectral\");"
   ]
  },
  {
   "cell_type": "markdown",
   "id": "12b606ee",
   "metadata": {},
   "source": [
    "Solvant is "
   ]
  },
  {
   "cell_type": "code",
   "execution_count": null,
   "id": "577c9d90",
   "metadata": {},
   "outputs": [],
   "source": [
    "result.data[\"dataset1\"][\"damped_oscillation_phase\"].sel(damped_oscillation=\"osc6\").plot()"
   ]
  },
  {
   "cell_type": "code",
   "execution_count": null,
   "id": "05991dfc",
   "metadata": {},
   "outputs": [],
   "source": [
    "result.data[\"dataset1\"][\"damped_oscillation_phase\"].isel(damped_oscillation=slice(0, 6)).plot.line(\n",
    "    x=\"spectral\", ylim=(-12, 8)\n",
    ");"
   ]
  },
  {
   "cell_type": "markdown",
   "id": "948c5cfd",
   "metadata": {},
   "source": [
    "### damped_oscillation_associated_spectra"
   ]
  },
  {
   "cell_type": "code",
   "execution_count": null,
   "id": "85dbec18",
   "metadata": {},
   "outputs": [],
   "source": [
    "result.data[\"dataset1\"][\"damped_oscillation_associated_spectra\"].plot(shading=\"auto\")"
   ]
  },
  {
   "cell_type": "code",
   "execution_count": null,
   "id": "2a8e1181",
   "metadata": {},
   "outputs": [],
   "source": [
    "result.data[\"dataset1\"][\"damped_oscillation_associated_spectra\"].plot.line(x=\"spectral\");"
   ]
  },
  {
   "cell_type": "code",
   "execution_count": null,
   "id": "9082cbc1",
   "metadata": {},
   "outputs": [],
   "source": [
    "result.data[\"dataset1\"][\"damped_oscillation_associated_spectra\"].sel(\n",
    "    damped_oscillation=[\"osc2\", \"osc18\"]\n",
    ").plot.line(x=\"spectral\");"
   ]
  },
  {
   "cell_type": "markdown",
   "id": "7ae34422",
   "metadata": {},
   "source": [
    "Scaling: Multiply maxima of time and spectral"
   ]
  },
  {
   "cell_type": "code",
   "execution_count": null,
   "id": "dbffda12",
   "metadata": {},
   "outputs": [],
   "source": [
    "result.data[\"dataset1\"][\"damped_oscillation_associated_spectra\"].isel(\n",
    "    damped_oscillation=slice(0, 6)\n",
    ").plot.line(x=\"spectral\", ylim=(0, 4.8));"
   ]
  },
  {
   "cell_type": "code",
   "execution_count": null,
   "id": "3b47cb69",
   "metadata": {},
   "outputs": [],
   "source": [
    "result.data[\"dataset1\"][\"damped_oscillation_associated_spectra\"].isel(\n",
    "    damped_oscillation=slice(14, 19)\n",
    ").plot.line(x=\"spectral\");"
   ]
  },
  {
   "cell_type": "markdown",
   "id": "42509c44",
   "metadata": {},
   "source": [
    "### damped_oscillation_sin"
   ]
  },
  {
   "cell_type": "code",
   "execution_count": null,
   "id": "07aa54c0",
   "metadata": {},
   "outputs": [],
   "source": [
    "center_wl = 500"
   ]
  },
  {
   "cell_type": "code",
   "execution_count": null,
   "id": "bc1b9a90",
   "metadata": {},
   "outputs": [],
   "source": [
    "result.data[\"dataset1\"][\"damped_oscillation_sin\"].sel(\n",
    "    spectral=center_wl, method=\"nearest\"\n",
    ")  # .plot(shading='auto')"
   ]
  },
  {
   "cell_type": "code",
   "execution_count": null,
   "id": "607e4733",
   "metadata": {},
   "outputs": [],
   "source": [
    "result.data[\"dataset1\"][\"damped_oscillation_sin\"].sel(\n",
    "    spectral=center_wl, method=\"nearest\"\n",
    ").plot.line(x=\"time\");"
   ]
  },
  {
   "cell_type": "code",
   "execution_count": null,
   "id": "f2aca38e",
   "metadata": {},
   "outputs": [],
   "source": [
    "result.data[\"dataset1\"][\"damped_oscillation_sin\"].isel(time=slice(30, 350)).sel(\n",
    "    spectral=center_wl, method=\"nearest\"\n",
    ").plot.line(x=\"time\");"
   ]
  },
  {
   "cell_type": "code",
   "execution_count": null,
   "id": "c971eed1",
   "metadata": {},
   "outputs": [],
   "source": [
    "result.data[\"dataset1\"][\"damped_oscillation_sin\"].isel(time=plot_time_slice).isel(\n",
    "    damped_oscillation=slice(14, 19)\n",
    ").sel(spectral=center_wl, method=\"nearest\").plot.line(x=\"time\");"
   ]
  },
  {
   "cell_type": "code",
   "execution_count": null,
   "id": "fe9e90a9",
   "metadata": {},
   "outputs": [],
   "source": [
    "result.data[\"dataset1\"][\"damped_oscillation_sin\"].isel(time=plot_time_slice).isel(\n",
    "    damped_oscillation=slice(0, 4)\n",
    ").sel(spectral=center_wl, method=\"nearest\").plot.line(x=\"time\");"
   ]
  },
  {
   "cell_type": "markdown",
   "id": "921be9b4",
   "metadata": {},
   "source": [
    "Dispersion needs to be subtracted"
   ]
  },
  {
   "cell_type": "code",
   "execution_count": null,
   "id": "0ef8d836",
   "metadata": {},
   "outputs": [],
   "source": [
    "result.data[\"dataset1\"][\"damped_oscillation_sin\"].isel(time=plot_time_slice).sel(\n",
    "    damped_oscillation=\"osc6\"\n",
    ").plot(center=False)"
   ]
  },
  {
   "cell_type": "code",
   "execution_count": null,
   "id": "e0dcdb52",
   "metadata": {},
   "outputs": [],
   "source": [
    "result.data[\"dataset1\"][\"damped_oscillation_cos\"].isel(time=plot_time_slice).sel(\n",
    "    damped_oscillation=\"osc6\"\n",
    ").plot(center=False)"
   ]
  },
  {
   "cell_type": "markdown",
   "id": "d397bd6f",
   "metadata": {},
   "source": [
    "### damped_oscillation_cos"
   ]
  },
  {
   "cell_type": "code",
   "execution_count": null,
   "id": "63e40aea",
   "metadata": {},
   "outputs": [],
   "source": [
    "result.data[\"dataset1\"][\"damped_oscillation_cos\"].isel(time=plot_time_slice).sel(\n",
    "    spectral=center_wl, method=\"nearest\"\n",
    ").plot.line(x=\"time\");"
   ]
  },
  {
   "cell_type": "code",
   "execution_count": null,
   "id": "a7d405e3-10ed-4d68-9bd9-98b0e72808ca",
   "metadata": {},
   "outputs": [],
   "source": [
    "result.data[\"dataset1\"][\"damped_oscillation_cos\"].isel(time=slice(25, 125)).isel(\n",
    "    damped_oscillation=slice(12, 13)\n",
    ").sel(spectral=center_wl, method=\"nearest\").plot.line(x=\"time\");"
   ]
  },
  {
   "cell_type": "code",
   "execution_count": null,
   "id": "4b8fb4fb",
   "metadata": {},
   "outputs": [],
   "source": [
    "result.data[\"dataset1\"][\"damped_oscillation_cos\"].isel(time=plot_time_slice).isel(\n",
    "    damped_oscillation=slice(0, 4)\n",
    ").sel(spectral=center_wl, method=\"nearest\").plot.line(x=\"time\");"
   ]
  },
  {
   "cell_type": "code",
   "execution_count": null,
   "id": "c1c93987",
   "metadata": {},
   "outputs": [],
   "source": [
    "result.data[\"dataset1\"][\"damped_oscillation_cos\"].isel(time=plot_time_slice).isel(\n",
    "    damped_oscillation=slice(14, 19)\n",
    ").sel(spectral=center_wl, method=\"nearest\").plot.line(x=\"time\");"
   ]
  },
  {
   "cell_type": "code",
   "execution_count": null,
   "id": "9bab8687",
   "metadata": {},
   "outputs": [],
   "source": [
    "result.data[\"dataset1\"][\"damped_oscillation_cos\"].isel(time=plot_time_slice).sel(\n",
    "    damped_oscillation=[\"osc2\", \"osc18\"]\n",
    ").sel(spectral=center_wl, method=\"nearest\").plot.line(x=\"time\")\n",
    "result.data[\"dataset1\"][\"damped_oscillation_sin\"].isel(time=plot_time_slice).sel(\n",
    "    damped_oscillation=[\"osc2\", \"osc18\"]\n",
    ").sel(spectral=center_wl, method=\"nearest\").plot.line(x=\"time\");"
   ]
  },
  {
   "cell_type": "markdown",
   "id": "da468e57",
   "metadata": {},
   "source": [
    "# Interactive Plots"
   ]
  },
  {
   "cell_type": "code",
   "execution_count": null,
   "id": "4e83ccb3",
   "metadata": {},
   "outputs": [],
   "source": [
    "from __future__ import annotations\n",
    "\n",
    "from ipywidgets import interact\n",
    "from ipywidgets import widgets"
   ]
  },
  {
   "cell_type": "code",
   "execution_count": null,
   "id": "6952dd75",
   "metadata": {},
   "outputs": [],
   "source": [
    "dataset = result.data[\"dataset1\"][\"damped_oscillation_cos\"]\n",
    "\n",
    "time_slider = widgets.FloatRangeSlider(\n",
    "    value=[-0.1, 0.5],\n",
    "    min=dataset.time.min(),\n",
    "    max=2,\n",
    "    step=0.01,\n",
    "    description=\"time:\",\n",
    "    continuous_update=False,\n",
    "    orientation=\"horizontal\",\n",
    "    readout=True,\n",
    "    readout_format=\".2f\",\n",
    "    layout=widgets.Layout(width=\"50%\"),\n",
    ")\n",
    "spectral_slider = widgets.FloatSlider(\n",
    "    value=500,\n",
    "    min=dataset.spectral.min(),\n",
    "    max=dataset.spectral.max(),\n",
    "    step=0.1,\n",
    "    description=\"spectral:\",\n",
    "    continuous_update=False,\n",
    "    orientation=\"horizontal\",\n",
    "    readout=True,\n",
    "    readout_format=\".2f\",\n",
    "    layout=widgets.Layout(width=\"50%\"),\n",
    ")"
   ]
  },
  {
   "cell_type": "code",
   "execution_count": null,
   "id": "7527eb51",
   "metadata": {},
   "outputs": [],
   "source": [
    "doas_select = widgets.SelectMultiple(\n",
    "    options=list(dataset.damped_oscillation.values),\n",
    "    value=list(dataset.damped_oscillation.values[:5]),\n",
    "    # rows=10,\n",
    "    description=\"DOAS\",\n",
    "    layout=widgets.Layout(height=f\"{1.2*len(list(dataset.damped_oscillation.values))}em\"),\n",
    ")"
   ]
  },
  {
   "cell_type": "code",
   "execution_count": null,
   "id": "433a073f",
   "metadata": {},
   "outputs": [],
   "source": [
    "def plot_func_factory(dataset: xr.DataArray):\n",
    "    time = dataset.time\n",
    "\n",
    "    def wrapper(spectral: float, time_range: tuple[float, float], doas: list[str]):\n",
    "        time_mask = np.logical_and(time >= time_range[0], time <= time_range[1])\n",
    "        doas_mask = np.isin(dataset.damped_oscillation, doas)\n",
    "        dataset.isel(time=time_mask, damped_oscillation=doas_mask).sel(\n",
    "            spectral=spectral, method=\"nearest\"\n",
    "        ).plot.line(x=\"time\")\n",
    "        plt.show()\n",
    "\n",
    "    return wrapper\n",
    "\n",
    "\n",
    "plot_cos = plot_func_factory(result.data[\"dataset1\"][\"damped_oscillation_cos\"])\n",
    "\n",
    "interact(plot_cos, spectral=spectral_slider, time_range=time_slider, doas=doas_select)"
   ]
  }
 ],
 "metadata": {
  "kernelspec": {
   "display_name": "Python 3 (ipykernel)",
   "language": "python",
   "name": "python3"
  },
  "language_info": {
   "codemirror_mode": {
    "name": "ipython",
    "version": 3
   },
   "file_extension": ".py",
   "mimetype": "text/x-python",
   "name": "python",
   "nbconvert_exporter": "python",
   "pygments_lexer": "ipython3",
   "version": "3.8.6"
  },
  "toc-showtags": false
 },
 "nbformat": 4,
 "nbformat_minor": 5
}
