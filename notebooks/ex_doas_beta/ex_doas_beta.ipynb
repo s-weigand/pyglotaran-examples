{
 "cells": [
  {
   "cell_type": "markdown",
   "id": "2630b376-24de-4d8d-98d3-86c441d609aa",
   "metadata": {},
   "source": [
    "# Imports"
   ]
  },
  {
   "cell_type": "markdown",
   "id": "f59639df-89d0-462e-ac6b-9643570d9668",
   "metadata": {},
   "source": [
    "### Plotting functions ([`pyglotaran_extras`](https://github.com/s-weigand/pyglotaran-extras/commit/20da3593105fb839f86e668dc12dc9ca87c3b9ce) + `matplotlib`)"
   ]
  },
  {
   "cell_type": "code",
   "execution_count": null,
   "id": "c322c1d6-01cd-4570-8873-c0d94f6db31e",
   "metadata": {
    "tags": []
   },
   "outputs": [],
   "source": [
    "import matplotlib.pyplot as plt\n",
    "from pyglotaran_extras.io.boilerplate import setup_case_study\n",
    "from pyglotaran_extras.plotting.plot_overview import plot_overview\n",
    "from pyglotaran_extras.plotting.style import PlotStyle\n",
    "\n",
    "plot_style = PlotStyle()\n",
    "plt.rc(\"axes\", prop_cycle=plot_style.cycler)\n",
    "plt.rcParams[\"figure.figsize\"] = (21, 14)"
   ]
  },
  {
   "cell_type": "markdown",
   "id": "6c3d6eb9-da9a-41d0-a6f1-cfc74446abba",
   "metadata": {},
   "source": [
    "### Analysis functions"
   ]
  },
  {
   "cell_type": "code",
   "execution_count": null,
   "id": "7e958e09-224a-44ad-a5db-5d01aba84762",
   "metadata": {},
   "outputs": [],
   "source": [
    "from glotaran.analysis.optimize import optimize\n",
    "from glotaran.io import load_dataset\n",
    "from glotaran.io import load_model\n",
    "from glotaran.io import load_parameters\n",
    "from glotaran.project.scheme import Scheme"
   ]
  },
  {
   "cell_type": "markdown",
   "id": "f88083c2-2b99-4232-a460-09a55b18cea9",
   "metadata": {},
   "source": [
    "# Analysis setup"
   ]
  },
  {
   "cell_type": "code",
   "execution_count": null,
   "id": "1ff68dfb-ca26-4b64-9ca2-8bd463412a51",
   "metadata": {},
   "outputs": [],
   "source": [
    "results_folder, script_folder = setup_case_study(output_folder_name=\"pyglotaran_examples_results\")\n",
    "results_folder = results_folder / \"target_analysis\""
   ]
  },
  {
   "cell_type": "markdown",
   "id": "b0f66dca-bf67-487e-abc7-77b3d294b210",
   "metadata": {},
   "source": [
    "# Load files"
   ]
  },
  {
   "cell_type": "code",
   "execution_count": null,
   "id": "176a8b2c-3225-4260-9e2d-e4dbe48ad1f7",
   "metadata": {},
   "outputs": [],
   "source": [
    "dataset = load_dataset(script_folder / \"data/2008Polli_betacar_chex_sim.nc\")\n",
    "model = load_model(script_folder / \"models/model.yml\")\n",
    "parameters = load_parameters(script_folder / \"models/parameters.yml\")"
   ]
  },
  {
   "cell_type": "markdown",
   "id": "33487db5-9ba0-429e-bf7a-130261b5cf74",
   "metadata": {},
   "source": [
    "# Optimization"
   ]
  },
  {
   "cell_type": "code",
   "execution_count": null,
   "id": "5f6eed5e-b9f4-455b-8379-e7582395f7cd",
   "metadata": {},
   "outputs": [],
   "source": [
    "scheme = Scheme(\n",
    "    model=model,\n",
    "    parameters=parameters,\n",
    "    data={\"dataset1\": dataset},\n",
    "    non_negative_least_squares=False,\n",
    "    optimization_method=\"TrustRegionReflection\",\n",
    "    # maximum_number_function_evaluations=3,\n",
    "    maximum_number_function_evaluations=1,\n",
    ")\n",
    "result = optimize(scheme)"
   ]
  },
  {
   "cell_type": "markdown",
   "id": "b86aa00d-1817-4729-be7b-ea2ba2ff5026",
   "metadata": {
    "tags": []
   },
   "source": [
    "# Results"
   ]
  },
  {
   "cell_type": "markdown",
   "id": "3d234abd-ddaf-4a40-ac8d-97559a99f3cd",
   "metadata": {},
   "source": [
    "## RMS"
   ]
  },
  {
   "cell_type": "code",
   "execution_count": null,
   "id": "86380466-c9b8-49dd-a679-1a7ec2ebe042",
   "metadata": {},
   "outputs": [],
   "source": [
    "result"
   ]
  },
  {
   "cell_type": "markdown",
   "id": "8cb72d6e-6723-41dd-a5d4-0b4928e1cfa1",
   "metadata": {},
   "source": [
    "## Optimized parameters"
   ]
  },
  {
   "cell_type": "code",
   "execution_count": null,
   "id": "4d444409-b048-473a-aa16-228ff3cf4abc",
   "metadata": {},
   "outputs": [],
   "source": [
    "result.optimized_parameters"
   ]
  },
  {
   "cell_type": "markdown",
   "id": "dc1a9f51-0458-4b87-9c47-a2418b697f97",
   "metadata": {},
   "source": [
    "# Plots"
   ]
  },
  {
   "cell_type": "code",
   "execution_count": null,
   "id": "02007efa-5f9c-4c73-9b0d-d370121516a4",
   "metadata": {},
   "outputs": [],
   "source": [
    "plot_overview(result.data[\"dataset1\"], linlog=True)"
   ]
  }
 ],
 "metadata": {
  "kernelspec": {
   "display_name": "Python 3",
   "language": "python",
   "name": "python3"
  },
  "language_info": {
   "codemirror_mode": {
    "name": "ipython",
    "version": 3
   },
   "file_extension": ".py",
   "mimetype": "text/x-python",
   "name": "python",
   "nbconvert_exporter": "python",
   "pygments_lexer": "ipython3",
   "version": "3.8.6"
  }
 },
 "nbformat": 4,
 "nbformat_minor": 5
}
