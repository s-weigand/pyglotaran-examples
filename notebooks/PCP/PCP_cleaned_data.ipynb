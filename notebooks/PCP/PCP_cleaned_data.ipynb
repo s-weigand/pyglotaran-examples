{
 "cells": [
  {
   "cell_type": "markdown",
   "id": "german-gentleman",
   "metadata": {},
   "source": [
    "# PCP case study\n",
    "## No chl prime"
   ]
  },
  {
   "cell_type": "markdown",
   "id": "sharing-increase",
   "metadata": {},
   "source": [
    "### Notebook helper function for pretty output"
   ]
  },
  {
   "cell_type": "code",
   "execution_count": null,
   "id": "limiting-library",
   "metadata": {},
   "outputs": [],
   "source": [
    "from IPython.display import Markdown\n",
    "from IPython.display import display\n",
    "\n",
    "\n",
    "def print_md(markdown_printable):\n",
    "    \"\"\"Pretty render Markdown.\"\"\"\n",
    "    display(Markdown(str(markdown_printable)))\n",
    "\n",
    "\n",
    "def print_yaml_file(file_path):\n",
    "    \"\"\"Pretty render yaml file.\"\"\"\n",
    "    with open(file_path) as f:\n",
    "        print_md(f\"```yaml\\n{f.read()}\\n```\")"
   ]
  },
  {
   "cell_type": "markdown",
   "id": "focused-roller",
   "metadata": {},
   "source": [
    "### Plotting functions ([`pyglotaran_extras`](https://github.com/s-weigand/pyglotaran-extras/commit/20da3593105fb839f86e668dc12dc9ca87c3b9ce) + `matplotlib`)"
   ]
  },
  {
   "cell_type": "code",
   "execution_count": null,
   "id": "velvet-highland",
   "metadata": {
    "tags": []
   },
   "outputs": [],
   "source": [
    "import matplotlib.pyplot as plt\n",
    "from pyglotaran_extras.plotting.plot_overview import plot_overview\n",
    "from pyglotaran_extras.plotting.style import PlotStyle\n",
    "\n",
    "plot_style = PlotStyle()\n",
    "plt.rc(\"axes\", prop_cycle=plot_style.cycler)\n",
    "plt.rcParams[\"figure.figsize\"] = (10, 7)"
   ]
  },
  {
   "cell_type": "markdown",
   "id": "terminal-community",
   "metadata": {},
   "source": [
    "### Analysis functions"
   ]
  },
  {
   "cell_type": "code",
   "execution_count": null,
   "id": "compatible-blank",
   "metadata": {},
   "outputs": [],
   "source": [
    "from glotaran.analysis.optimize import optimize\n",
    "from glotaran.io import load_dataset\n",
    "from glotaran.io import load_model\n",
    "from glotaran.io import load_parameters\n",
    "from glotaran.project.scheme import Scheme"
   ]
  },
  {
   "cell_type": "markdown",
   "id": "deluxe-zimbabwe",
   "metadata": {},
   "source": [
    "### Read data"
   ]
  },
  {
   "cell_type": "code",
   "execution_count": null,
   "id": "tutorial-tyler",
   "metadata": {},
   "outputs": [],
   "source": [
    "dataset = load_dataset(\"PCP490.ascii\")\n",
    "dataset"
   ]
  },
  {
   "cell_type": "raw",
   "id": "732b323a-f776-41e1-8bee-6f02408ee3e9",
   "metadata": {},
   "source": [
    "\\clearpage"
   ]
  },
  {
   "cell_type": "markdown",
   "id": "fac67865-a7ef-4f8a-8d7f-fce5d8b9ed9f",
   "metadata": {},
   "source": [
    "## Investigating the original data"
   ]
  },
  {
   "cell_type": "code",
   "execution_count": null,
   "id": "5074343f-5407-4563-a21f-2a4678b10af0",
   "metadata": {},
   "outputs": [],
   "source": [
    "dataset.data.plot(x=\"time\", y=\"spectral\")"
   ]
  },
  {
   "cell_type": "code",
   "execution_count": null,
   "id": "d1e011b4-bc45-4dad-a0c5-49cd6f381673",
   "metadata": {},
   "outputs": [],
   "source": [
    "last_traces = dataset.data.isel(\n",
    "    time=slice(-3, None),\n",
    ")\n",
    "last_traces.plot.line(x=\"spectral\", aspect=2, size=5)"
   ]
  },
  {
   "cell_type": "markdown",
   "id": "9c08cdec-9d74-40e9-baae-bce9cd0a8f6e",
   "metadata": {},
   "source": [
    "As can be seen in the two plots above, the last spectral value appears to be erroneous and thus should be removed from the dataset."
   ]
  },
  {
   "cell_type": "markdown",
   "id": "e0a817a2-e547-4aea-91bc-fc2644969b6e",
   "metadata": {},
   "source": [
    "## Removing data\n",
    "To remove data in an index based manner the `isel` method together with `slice` can be used on the `Dataset` to select only the wanted data and the resulting `Dataset` can be assigned to a new variable.\n",
    "The keywords in `isel` are the names of the axes that the selection should be applied on and `slice` is the index based selection interval.\n",
    "\n",
    "### `slice` usage examples\n",
    "```python\n",
    "slice(-i)\n",
    "```\n",
    "will select all but the last `i` values\n",
    "```python\n",
    "slice(i)\n",
    "```\n",
    "will select all values up to `i`\n",
    "```python\n",
    "slice(i, None)\n",
    "```\n",
    "will select all values from index `i` until the end\n",
    "```python\n",
    "slice(i, j)\n",
    "```\n",
    "will select all values from index `i` until index `j`"
   ]
  },
  {
   "cell_type": "code",
   "execution_count": null,
   "id": "b18c679a-bc64-4ef0-8765-b31ea6bd4ccf",
   "metadata": {},
   "outputs": [],
   "source": [
    "dataset_cleaned = dataset.isel(time=slice(-1))  # drop the last spectral values\n",
    "dataset_cleaned.data.plot(x=\"time\", y=\"spectral\")"
   ]
  },
  {
   "cell_type": "code",
   "execution_count": null,
   "id": "d2330327-8211-435a-b624-f61b821b8f54",
   "metadata": {},
   "outputs": [],
   "source": [
    "last_traces = dataset_cleaned.data.isel(\n",
    "    time=slice(-3, None),\n",
    ")\n",
    "last_traces.plot.line(x=\"spectral\", aspect=2, size=5)"
   ]
  },
  {
   "cell_type": "markdown",
   "id": "282babf5-2f65-4e6e-8e12-9a545b9adbad",
   "metadata": {},
   "source": [
    "## None linear time axis\n",
    "To understand why the heatmap of the data appears to be unevenly spaced we can have a look at the time axis's values over their index."
   ]
  },
  {
   "cell_type": "code",
   "execution_count": null,
   "id": "f09672a1-6be6-424f-b22c-99c7898fdec5",
   "metadata": {},
   "outputs": [],
   "source": [
    "import numpy as np\n",
    "\n",
    "plt.plot(np.arange(len(dataset.time)), dataset.time)\n",
    "plt.xlabel(\"times index\")\n",
    "plt.ylabel(\"times value (ns)\")"
   ]
  },
  {
   "cell_type": "markdown",
   "id": "2ea107f8-0625-434a-81f1-c7bef460bdee",
   "metadata": {},
   "source": [
    "The exponential values of the times long their index explains the \"mystery\" of the unevenly spaced heatmap."
   ]
  },
  {
   "cell_type": "markdown",
   "id": "everyday-crown",
   "metadata": {},
   "source": [
    "### Load model and parameters"
   ]
  },
  {
   "cell_type": "code",
   "execution_count": null,
   "id": "accessible-facility",
   "metadata": {},
   "outputs": [],
   "source": [
    "PCP_model = load_model(\"models/PCP-model.yml\")\n",
    "PCP_parameters = load_parameters(\"models/PCP-parameters.yml\")\n",
    "print_md(PCP_model.validate(parameters=PCP_parameters))"
   ]
  },
  {
   "cell_type": "code",
   "execution_count": null,
   "id": "olympic-banana",
   "metadata": {},
   "outputs": [],
   "source": [
    "print_md(PCP_model)"
   ]
  },
  {
   "cell_type": "markdown",
   "id": "cleared-toronto",
   "metadata": {},
   "source": [
    "### Create scheme and optimize it"
   ]
  },
  {
   "cell_type": "code",
   "execution_count": null,
   "id": "collective-lighting",
   "metadata": {},
   "outputs": [],
   "source": [
    "PCP_scheme = Scheme(PCP_model, PCP_parameters, {\"dataset1\": dataset_cleaned})\n",
    "PCP_result = optimize(PCP_scheme)"
   ]
  },
  {
   "cell_type": "code",
   "execution_count": null,
   "id": "black-athletics",
   "metadata": {},
   "outputs": [],
   "source": [
    "PCP_result.data[\"dataset1\"]"
   ]
  },
  {
   "cell_type": "markdown",
   "id": "mounted-skirt",
   "metadata": {},
   "source": [
    "### Result plots"
   ]
  },
  {
   "cell_type": "code",
   "execution_count": null,
   "id": "a055caab-b1b5-4e38-919c-f578cd3f250e",
   "metadata": {},
   "outputs": [],
   "source": [
    "PCP_result.data[\"dataset1\"]"
   ]
  },
  {
   "cell_type": "code",
   "execution_count": null,
   "id": "ae28c8b3-0aea-418a-a4c2-4a874591e8f6",
   "metadata": {
    "jupyter": {
     "outputs_hidden": true
    }
   },
   "outputs": [],
   "source": [
    "%load_ext line_profiler"
   ]
  },
  {
   "cell_type": "code",
   "execution_count": null,
   "id": "2f3751cd-2115-43d9-9797-dca838c06ffd",
   "metadata": {},
   "outputs": [],
   "source": [
    "%lprun"
   ]
  },
  {
   "cell_type": "code",
   "execution_count": null,
   "id": "c12a781d-152f-4e6f-a83b-ba2d681db913",
   "metadata": {},
   "outputs": [],
   "source": [
    "!pip freeze"
   ]
  },
  {
   "cell_type": "code",
   "execution_count": null,
   "id": "final-commissioner",
   "metadata": {},
   "outputs": [],
   "source": [
    "fig = plot_overview(PCP_result.data[\"dataset1\"], linlog=False)"
   ]
  },
  {
   "cell_type": "markdown",
   "id": "640bd649-8bde-4694-96c7-59025cd068ce",
   "metadata": {},
   "source": [
    "As can be seen in the above plot (compared to the original one), cleaning the dataset only influenced the residual and SVD's of the residual and data, but not the SAS and DAS."
   ]
  },
  {
   "cell_type": "code",
   "execution_count": null,
   "id": "supreme-creator",
   "metadata": {},
   "outputs": [],
   "source": [
    "print_md(PCP_result.optimized_parameters)"
   ]
  },
  {
   "cell_type": "markdown",
   "id": "unique-living",
   "metadata": {},
   "source": [
    "## chl prime"
   ]
  },
  {
   "cell_type": "markdown",
   "id": "ranking-toronto",
   "metadata": {},
   "source": [
    "### Load model and parameters\n",
    "Compared to the full data with the erroneous values for `time==78.7` the scaling of the flow to chl prime needed to be changed\n",
    "from\n",
    "```yaml\n",
    "scaling:\n",
    "  - [0.75, {vary: false}]\n",
    "  - [0.25, {vary: false}]\n",
    "```\n",
    "to\n",
    "```yaml\n",
    "scaling:\n",
    "  - [0.80, {vary: false}]\n",
    "  - [0.20, {vary: false}]\n",
    "```\n",
    "in order to counter the bleaching."
   ]
  },
  {
   "cell_type": "code",
   "execution_count": null,
   "id": "whole-exception",
   "metadata": {},
   "outputs": [],
   "source": [
    "PCP_chl_prime_model = load_model(\"models/PCP-chl-prime-model.yml\")\n",
    "PCP_chl_prime_parameters = load_parameters(\"models/PCP-chl-prime-parameters-sliced-data.yml\")\n",
    "print_md(PCP_model.validate(parameters=PCP_chl_prime_parameters))"
   ]
  },
  {
   "cell_type": "code",
   "execution_count": null,
   "id": "directed-dakota",
   "metadata": {},
   "outputs": [],
   "source": [
    "print_md(PCP_chl_prime_model)"
   ]
  },
  {
   "cell_type": "markdown",
   "id": "breeding-noise",
   "metadata": {},
   "source": [
    "### Create scheme and optimize it"
   ]
  },
  {
   "cell_type": "code",
   "execution_count": null,
   "id": "legitimate-russell",
   "metadata": {},
   "outputs": [],
   "source": [
    "PCP_chl_prime_scheme = Scheme(\n",
    "    PCP_chl_prime_model, PCP_chl_prime_parameters, {\"dataset1\": dataset_cleaned}\n",
    ")\n",
    "PCP_chl_prime_result = optimize(PCP_chl_prime_scheme)"
   ]
  },
  {
   "cell_type": "code",
   "execution_count": null,
   "id": "refined-mistress",
   "metadata": {},
   "outputs": [],
   "source": [
    "PCP_chl_prime_result.data[\"dataset1\"]"
   ]
  },
  {
   "cell_type": "markdown",
   "id": "super-adolescent",
   "metadata": {},
   "source": [
    "### Result plots"
   ]
  },
  {
   "cell_type": "code",
   "execution_count": null,
   "id": "narrow-petersburg",
   "metadata": {},
   "outputs": [],
   "source": [
    "%lprun fig = plot_overview(PCP_chl_prime_result.data[\"dataset1\"], linlog=False)"
   ]
  },
  {
   "cell_type": "code",
   "execution_count": null,
   "id": "introductory-thomson",
   "metadata": {},
   "outputs": [],
   "source": [
    "print_md(PCP_chl_prime_result.optimized_parameters)"
   ]
  }
 ],
 "metadata": {
  "kernelspec": {
   "display_name": "Python 3",
   "language": "python",
   "name": "python3"
  },
  "language_info": {
   "codemirror_mode": {
    "name": "ipython",
    "version": 3
   },
   "file_extension": ".py",
   "mimetype": "text/x-python",
   "name": "python",
   "nbconvert_exporter": "python",
   "pygments_lexer": "ipython3",
   "version": "3.8.6"
  }
 },
 "nbformat": 4,
 "nbformat_minor": 5
}
