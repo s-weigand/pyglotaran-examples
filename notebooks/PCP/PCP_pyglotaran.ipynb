{
 "cells": [
  {
   "cell_type": "markdown",
   "id": "german-gentleman",
   "metadata": {},
   "source": [
    "# PCP case study\n",
    "## No chl prime"
   ]
  },
  {
   "cell_type": "markdown",
   "id": "sharing-increase",
   "metadata": {},
   "source": [
    "### Notebook helper function for pretty output"
   ]
  },
  {
   "cell_type": "code",
   "execution_count": null,
   "id": "limiting-library",
   "metadata": {},
   "outputs": [],
   "source": [
    "from IPython.display import Markdown\n",
    "from IPython.display import display\n",
    "\n",
    "\n",
    "def print_md(markdown_printable):\n",
    "    \"\"\"Pretty render Markdown.\"\"\"\n",
    "    display(Markdown(str(markdown_printable)))\n",
    "\n",
    "\n",
    "def print_yaml_file(file_path):\n",
    "    \"\"\"Pretty render yaml file.\"\"\"\n",
    "    with open(file_path) as f:\n",
    "        print_md(f\"```yaml\\n{f.read()}\\n```\")"
   ]
  },
  {
   "cell_type": "markdown",
   "id": "focused-roller",
   "metadata": {},
   "source": [
    "### Plotting functions ([`pyglotaran_extras`](https://github.com/s-weigand/pyglotaran-extras/commit/20da3593105fb839f86e668dc12dc9ca87c3b9ce) + `matplotlib`)"
   ]
  },
  {
   "cell_type": "code",
   "execution_count": null,
   "id": "velvet-highland",
   "metadata": {
    "tags": []
   },
   "outputs": [],
   "source": [
    "import matplotlib.pyplot as plt\n",
    "from pyglotaran_extras.plotting.plot_overview import plot_overview\n",
    "from pyglotaran_extras.plotting.style import PlotStyle\n",
    "\n",
    "plot_style = PlotStyle()\n",
    "plt.rc(\"axes\", prop_cycle=plot_style.cycler)\n",
    "plt.rcParams[\"figure.figsize\"] = (21, 14)"
   ]
  },
  {
   "cell_type": "markdown",
   "id": "terminal-community",
   "metadata": {},
   "source": [
    "### Analysis functions"
   ]
  },
  {
   "cell_type": "code",
   "execution_count": null,
   "id": "compatible-blank",
   "metadata": {},
   "outputs": [],
   "source": [
    "from glotaran.analysis.optimize import optimize\n",
    "from glotaran.io import load_dataset\n",
    "from glotaran.io import load_model\n",
    "from glotaran.io import load_parameters\n",
    "from glotaran.project.scheme import Scheme"
   ]
  },
  {
   "cell_type": "markdown",
   "id": "deluxe-zimbabwe",
   "metadata": {},
   "source": [
    "### Read data"
   ]
  },
  {
   "cell_type": "code",
   "execution_count": null,
   "id": "tutorial-tyler",
   "metadata": {},
   "outputs": [],
   "source": [
    "dataset = load_dataset(\"PCP490.ascii\")\n",
    "dataset"
   ]
  },
  {
   "cell_type": "markdown",
   "id": "everyday-crown",
   "metadata": {},
   "source": [
    "### Load model and parameters"
   ]
  },
  {
   "cell_type": "code",
   "execution_count": null,
   "id": "accessible-facility",
   "metadata": {},
   "outputs": [],
   "source": [
    "PCP_model = load_model(\"models/PCP-model.yml\")\n",
    "PCP_parameters = load_parameters(\"models/PCP-parameters.yml\")\n",
    "print_md(PCP_model.validate(parameters=PCP_parameters))"
   ]
  },
  {
   "cell_type": "code",
   "execution_count": null,
   "id": "olympic-banana",
   "metadata": {},
   "outputs": [],
   "source": [
    "print_md(PCP_model)"
   ]
  },
  {
   "cell_type": "markdown",
   "id": "cleared-toronto",
   "metadata": {},
   "source": [
    "### Create scheme and optimize it"
   ]
  },
  {
   "cell_type": "code",
   "execution_count": null,
   "id": "collective-lighting",
   "metadata": {},
   "outputs": [],
   "source": [
    "PCP_scheme = Scheme(PCP_model, PCP_parameters, {\"dataset1\": dataset})\n",
    "PCP_result = optimize(PCP_scheme)"
   ]
  },
  {
   "cell_type": "code",
   "execution_count": null,
   "id": "black-athletics",
   "metadata": {},
   "outputs": [],
   "source": [
    "PCP_result.data[\"dataset1\"]"
   ]
  },
  {
   "cell_type": "markdown",
   "id": "mounted-skirt",
   "metadata": {},
   "source": [
    "### Result plots"
   ]
  },
  {
   "cell_type": "code",
   "execution_count": null,
   "id": "final-commissioner",
   "metadata": {},
   "outputs": [],
   "source": [
    "try:\n",
    "    fig = plot_overview(PCP_result.data[\"dataset1\"], linlog=False)\n",
    "except ValueError:\n",
    "    # residual data aren't sorted and the plot fails\n",
    "    pass"
   ]
  },
  {
   "cell_type": "code",
   "execution_count": null,
   "id": "supreme-creator",
   "metadata": {},
   "outputs": [],
   "source": [
    "print_md(PCP_result.optimized_parameters)"
   ]
  },
  {
   "cell_type": "markdown",
   "id": "unique-living",
   "metadata": {},
   "source": [
    "## chl prime"
   ]
  },
  {
   "cell_type": "markdown",
   "id": "ranking-toronto",
   "metadata": {},
   "source": [
    "### Load model and parameters"
   ]
  },
  {
   "cell_type": "code",
   "execution_count": null,
   "id": "whole-exception",
   "metadata": {},
   "outputs": [],
   "source": [
    "PCP_chl_prime_model = load_model(\"models/PCP-chl-prime-model.yml\")\n",
    "PCP_chl_prime_parameters = load_parameters(\"models/PCP-chl-prime-parameters.yml\")\n",
    "print_md(PCP_model.validate(parameters=PCP_chl_prime_parameters))"
   ]
  },
  {
   "cell_type": "code",
   "execution_count": null,
   "id": "directed-dakota",
   "metadata": {},
   "outputs": [],
   "source": [
    "print_md(PCP_chl_prime_model)"
   ]
  },
  {
   "cell_type": "markdown",
   "id": "breeding-noise",
   "metadata": {},
   "source": [
    "### Create scheme and optimize it"
   ]
  },
  {
   "cell_type": "code",
   "execution_count": null,
   "id": "legitimate-russell",
   "metadata": {},
   "outputs": [],
   "source": [
    "PCP_chl_prime_scheme = Scheme(PCP_chl_prime_model, PCP_chl_prime_parameters, {\"dataset1\": dataset})\n",
    "PCP_chl_prime_result = optimize(PCP_chl_prime_scheme)"
   ]
  },
  {
   "cell_type": "code",
   "execution_count": null,
   "id": "81d9bbe0-bcd4-4244-86fc-e640c941b12f",
   "metadata": {},
   "outputs": [],
   "source": [
    "PCP_chl_prime_result.data[\"dataset1\"]"
   ]
  },
  {
   "cell_type": "markdown",
   "id": "super-adolescent",
   "metadata": {},
   "source": [
    "### Result plots"
   ]
  },
  {
   "cell_type": "code",
   "execution_count": null,
   "id": "narrow-petersburg",
   "metadata": {},
   "outputs": [],
   "source": [
    "try:\n",
    "    fig = plot_overview(PCP_chl_prime_result.data[\"dataset1\"], linlog=False)\n",
    "except ValueError:\n",
    "    # residual data aren't sorted and the plot fails\n",
    "    pass"
   ]
  },
  {
   "cell_type": "code",
   "execution_count": null,
   "id": "introductory-thomson",
   "metadata": {},
   "outputs": [],
   "source": [
    "print_md(PCP_chl_prime_result.optimized_parameters)"
   ]
  }
 ],
 "metadata": {
  "kernelspec": {
   "display_name": "Python 3",
   "language": "python",
   "name": "python3"
  },
  "language_info": {
   "codemirror_mode": {
    "name": "ipython",
    "version": 3
   },
   "file_extension": ".py",
   "mimetype": "text/x-python",
   "name": "python",
   "nbconvert_exporter": "python",
   "pygments_lexer": "ipython3",
   "version": "3.8.6"
  }
 },
 "nbformat": 4,
 "nbformat_minor": 5
}
