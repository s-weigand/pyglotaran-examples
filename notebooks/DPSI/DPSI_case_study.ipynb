{
 "cells": [
  {
   "cell_type": "markdown",
   "metadata": {},
   "source": [
    "# DPSI case study"
   ]
  },
  {
   "cell_type": "markdown",
   "metadata": {},
   "source": [
    "### Notebook helper function for pretty output"
   ]
  },
  {
   "cell_type": "code",
   "execution_count": null,
   "metadata": {},
   "outputs": [],
   "source": [
    "from ipywidgets import interact\n",
    "from tabulate import tabulate\n",
    "\n",
    "from glotaran.utils.ipython import MarkdownStr"
   ]
  },
  {
   "cell_type": "markdown",
   "metadata": {},
   "source": [
    "### Plotting functions ([`pyglotaran_extras`](https://github.com/s-weigand/pyglotaran-extras/commit/20da3593105fb839f86e668dc12dc9ca87c3b9ce) + `matplotlib`)"
   ]
  },
  {
   "cell_type": "code",
   "execution_count": null,
   "metadata": {
    "tags": []
   },
   "outputs": [],
   "source": [
    "import matplotlib.pyplot as plt\n",
    "from pyglotaran_extras.plotting.plot_overview import plot_overview\n",
    "from pyglotaran_extras.plotting.style import PlotStyle\n",
    "\n",
    "plot_style = PlotStyle()\n",
    "plt.rc(\"axes\", prop_cycle=plot_style.cycler)\n",
    "plt.rcParams[\"figure.figsize\"] = (21, 14)"
   ]
  },
  {
   "cell_type": "markdown",
   "metadata": {},
   "source": [
    "### Analysis functions"
   ]
  },
  {
   "cell_type": "code",
   "execution_count": null,
   "metadata": {},
   "outputs": [],
   "source": [
    "from glotaran.analysis.optimize import optimize\n",
    "from glotaran.io import load_dataset\n",
    "from glotaran.io import load_model\n",
    "from glotaran.io import load_parameters\n",
    "from glotaran.project.scheme import Scheme"
   ]
  },
  {
   "cell_type": "markdown",
   "metadata": {},
   "source": [
    "### Read data"
   ]
  },
  {
   "cell_type": "code",
   "execution_count": null,
   "metadata": {
    "tags": []
   },
   "outputs": [],
   "source": [
    "dataset1 = load_dataset(\"data/RT400_590excDPSIjul30tr24KtargetPB10a.ascii\")\n",
    "dataset2 = load_dataset(\"data/RT400_590excDPSIjul30tr24KtargetPB10b.ascii\")\n",
    "dataset3 = load_dataset(\"data/RT400_590excDPSIjul30tr24KtargetPB10c.ascii\")\n",
    "dataset4 = load_dataset(\"data/RT400_590excDPSIjul30tr24KtargetPB10d.ascii\")\n",
    "dataset5 = load_dataset(\"data/RT400_590excDPSIjul30tr24KtargetPB10e.ascii\")\n",
    "dataset6 = load_dataset(\"data/RT400_590excDPSIjul30tr24KtargetPB10f.ascii\")\n",
    "\n",
    "four_datasets = {\n",
    "    \"dataset1\": dataset1,\n",
    "    \"dataset2\": dataset2,\n",
    "    \"dataset3\": dataset3,\n",
    "    \"dataset4\": dataset4,\n",
    "}\n",
    "six_datasets = {**four_datasets, \"dataset5\": dataset5, \"dataset6\": dataset6}\n",
    "\n",
    "\n",
    "def plot_datasets(dataset_name):\n",
    "    \"\"\"Plot helper function to use with widgets\"\"\"\n",
    "    dataset = six_datasets[dataset_name]\n",
    "    if len(dataset.data.time) > 1:\n",
    "        dataset.data.plot(x=\"time\", center=False)\n",
    "    else:\n",
    "        dataset.data.plot()\n",
    "\n",
    "\n",
    "interact(plot_datasets, dataset_name=six_datasets.keys())"
   ]
  },
  {
   "cell_type": "markdown",
   "metadata": {},
   "source": [
    "## Sequential Model"
   ]
  },
  {
   "cell_type": "markdown",
   "metadata": {},
   "source": [
    "### Load model and parameters"
   ]
  },
  {
   "cell_type": "code",
   "execution_count": null,
   "metadata": {},
   "outputs": [],
   "source": [
    "sequential_model = load_model(\"models/model_DPSI_sequential_irf.yml\")\n",
    "sequential_parameters = load_parameters(\"models/parameters_DPSI_sequential_irf.yml\")\n",
    "sequential_model.validate(parameters=sequential_parameters)"
   ]
  },
  {
   "cell_type": "code",
   "execution_count": null,
   "metadata": {},
   "outputs": [],
   "source": [
    "sequential_model"
   ]
  },
  {
   "cell_type": "markdown",
   "metadata": {},
   "source": [
    "### Create scheme and optimize it"
   ]
  },
  {
   "cell_type": "code",
   "execution_count": null,
   "metadata": {},
   "outputs": [],
   "source": [
    "sequential_scheme = Scheme(\n",
    "    sequential_model,\n",
    "    sequential_parameters,\n",
    "    data=four_datasets,\n",
    "    group_tolerance=1.9,\n",
    "    non_negative_least_squares=True,\n",
    "    maximum_number_function_evaluations=11,\n",
    ")\n",
    "sequential_result = optimize(sequential_scheme)"
   ]
  },
  {
   "cell_type": "code",
   "execution_count": null,
   "metadata": {},
   "outputs": [],
   "source": [
    "root_mean_square_errors = []\n",
    "for dataset_name in four_datasets.keys():\n",
    "    root_mean_square_errors.append(\n",
    "        (dataset_name, sequential_result.data[dataset_name].root_mean_square_error)\n",
    "    )\n",
    "MarkdownStr(tabulate(root_mean_square_errors, headers=(\"dataset\", \"RMS-Error\"), tablefmt=\"github\"))"
   ]
  },
  {
   "cell_type": "markdown",
   "metadata": {},
   "source": [
    "### Result plots"
   ]
  },
  {
   "cell_type": "code",
   "execution_count": null,
   "metadata": {},
   "outputs": [],
   "source": [
    "for dataset_name in four_datasets.keys():\n",
    "    fig = plot_overview(sequential_result.data[dataset_name], linthresh=150)\n",
    "    fig.suptitle(f\"Result for {dataset_name!r}\", fontsize=16)"
   ]
  },
  {
   "cell_type": "code",
   "execution_count": null,
   "metadata": {},
   "outputs": [],
   "source": [
    "sequential_result.optimized_parameters"
   ]
  },
  {
   "cell_type": "markdown",
   "metadata": {},
   "source": [
    "## Guidance Model"
   ]
  },
  {
   "cell_type": "markdown",
   "metadata": {},
   "source": [
    "### Load model and parameters"
   ]
  },
  {
   "cell_type": "code",
   "execution_count": null,
   "metadata": {},
   "outputs": [],
   "source": [
    "guidance_model = load_model(\"models/model_DPSI_guidance_no_area_irf.yml\")\n",
    "guidance_parameters = load_parameters(\"models/parameters_DPSI_guidance_no_area_irf.yml\")\n",
    "guidance_model.validate(parameters=guidance_parameters)"
   ]
  },
  {
   "cell_type": "code",
   "execution_count": null,
   "metadata": {
    "tags": []
   },
   "outputs": [],
   "source": [
    "guidance_model"
   ]
  },
  {
   "cell_type": "markdown",
   "metadata": {},
   "source": [
    "### Create scheme and optimize it"
   ]
  },
  {
   "cell_type": "code",
   "execution_count": null,
   "metadata": {},
   "outputs": [],
   "source": [
    "guidance_scheme = Scheme(\n",
    "    guidance_model,\n",
    "    guidance_parameters,\n",
    "    data=six_datasets,\n",
    "    group_tolerance=1.9,\n",
    "    non_negative_least_squares=True,\n",
    "    maximum_number_function_evaluations=11,\n",
    ")\n",
    "guidance_result = optimize(guidance_scheme)"
   ]
  },
  {
   "cell_type": "code",
   "execution_count": null,
   "metadata": {},
   "outputs": [],
   "source": [
    "root_mean_square_errors = []\n",
    "for dataset_name in six_datasets.keys():\n",
    "    root_mean_square_errors.append(\n",
    "        (dataset_name, guidance_result.data[dataset_name].root_mean_square_error)\n",
    "    )\n",
    "MarkdownStr(tabulate(root_mean_square_errors, headers=(\"dataset\", \"RMS-Error\"), tablefmt=\"github\"))"
   ]
  },
  {
   "cell_type": "markdown",
   "metadata": {},
   "source": [
    "### Result plots"
   ]
  },
  {
   "cell_type": "code",
   "execution_count": null,
   "metadata": {},
   "outputs": [],
   "source": [
    "for dataset_name in six_datasets.keys():\n",
    "    fig = plot_overview(guidance_result.data[dataset_name], linthresh=150)\n",
    "    fig.suptitle(f\"Result for {dataset_name!r}\", fontsize=16)"
   ]
  },
  {
   "cell_type": "code",
   "execution_count": null,
   "metadata": {},
   "outputs": [],
   "source": [
    "sequential_result.optimized_parameters"
   ]
  },
  {
   "cell_type": "markdown",
   "metadata": {},
   "source": [
    "## Format notebook"
   ]
  },
  {
   "cell_type": "code",
   "execution_count": null,
   "metadata": {},
   "outputs": [],
   "source": [
    "# !nbqa black DPSI_case_study.ipynb --nbqa-mutate\n",
    "# !nbqa isort DPSI_case_study.ipynb --nbqa-mutate"
   ]
  }
 ],
 "metadata": {
  "kernelspec": {
   "display_name": "Python 3",
   "language": "python",
   "name": "python3"
  },
  "language_info": {
   "codemirror_mode": {
    "name": "ipython",
    "version": 3
   },
   "file_extension": ".py",
   "mimetype": "text/x-python",
   "name": "python",
   "nbconvert_exporter": "python",
   "pygments_lexer": "ipython3",
   "version": "3.8.6"
  }
 },
 "nbformat": 4,
 "nbformat_minor": 4
}
