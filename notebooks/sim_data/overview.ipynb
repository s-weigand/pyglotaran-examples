{
 "cells": [
  {
   "cell_type": "markdown",
   "metadata": {},
   "source": [
    "# Validating new pyglotaran spectral model with TIMP simulated data\n",
    "The workflow in the notebooks will be derived from paramGUI\n",
    "- Display data and SVD\n",
    "- Fit kinetic model\n",
    "- Fit spectral model\n",
    "- TODO: spectrotemporal model (when implemented in pyglotaran)"
   ]
  },
  {
   "cell_type": "markdown",
   "metadata": {},
   "source": [
    "## [simData1](./simData1.ipynb)\n",
    "Parallel model with: \n",
    "- kinpars: [0.055, 0.005]\n",
    "- specpar: [(22000, 4000, 0.1), (20000, 3500, -0.1)]\n",
    "- irfpar : None"
   ]
  },
  {
   "cell_type": "markdown",
   "metadata": {},
   "source": [
    "## [simData2](./simData2.ipynb)\n",
    "Sequential model with: \n",
    "- kinpars: [0.055, 0.005]\n",
    "- specpar: [(22000, 4000, 0.1), (20000, 3500, -0.1)]\n",
    "- irfpar : [2, 1]"
   ]
  },
  {
   "cell_type": "markdown",
   "metadata": {},
   "source": [
    "## [simData3](./simData3.ipynb)\n",
    "Parallel model with: \n",
    "- kinpars: [0.025, 0.001]\n",
    "- specpar: [(14285, 800, 0.4), (13700, 650, -0.3)]\n",
    "- irfpar : None"
   ]
  },
  {
   "cell_type": "markdown",
   "metadata": {},
   "source": [
    "## [simData4](./simData4.ipynb)\n",
    "Sequential model with: \n",
    "- kinpars: [0.025, 0.001]\n",
    "- specpar: [(14285, 800, 0.4), (13700, 650, -0.3)]\n",
    "- irfpar : [-0.5, 1.5]"
   ]
  }
 ],
 "metadata": {
  "kernelspec": {
   "display_name": "Python 3",
   "language": "python",
   "name": "python3"
  },
  "language_info": {
   "codemirror_mode": {
    "name": "ipython",
    "version": 3
   },
   "file_extension": ".py",
   "mimetype": "text/x-python",
   "name": "python",
   "nbconvert_exporter": "python",
   "pygments_lexer": "ipython3",
   "version": "3.8.6"
  }
 },
 "nbformat": 4,
 "nbformat_minor": 4
}
